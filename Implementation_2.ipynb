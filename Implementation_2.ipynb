{
  "nbformat": 4,
  "nbformat_minor": 0,
  "metadata": {
    "colab": {
      "provenance": [],
      "machine_shape": "hm",
      "gpuType": "V100"
    },
    "kernelspec": {
      "name": "python3",
      "display_name": "Python 3"
    },
    "language_info": {
      "name": "python"
    },
    "accelerator": "GPU"
  },
  "cells": [
    {
      "cell_type": "code",
      "execution_count": null,
      "metadata": {
        "id": "xxobgmj319Ro",
        "colab": {
          "base_uri": "https://localhost:8080/"
        },
        "outputId": "1e7cf864-50c9-437a-8893-231627e7f2dc"
      },
      "outputs": [
        {
          "output_type": "stream",
          "name": "stdout",
          "text": [
            "Mounted at /content/drive/\n"
          ]
        }
      ],
      "source": [
        "import os\n",
        "from collections import defaultdict\n",
        "import math\n",
        "import networkx as nx\n",
        "import random\n",
        "from tqdm import tqdm\n",
        "from zipfile import ZipFile\n",
        "from urllib.request import urlretrieve\n",
        "import numpy as np\n",
        "import pandas as pd\n",
        "import torch\n",
        "import torch.nn as nn\n",
        "import torch.optim as optim\n",
        "import matplotlib.pyplot as plt\n",
        "import pandas as pd\n",
        "from google.colab import drive\n",
        "drive.mount('/content/drive/')"
      ]
    },
    {
      "cell_type": "markdown",
      "source": [
        "step 1: loading the datasets"
      ],
      "metadata": {
        "id": "pOdpJpJF3qFs"
      }
    },
    {
      "cell_type": "code",
      "source": [
        "# # loading the datasets and preprocessing\n",
        "# # loading movies\n",
        "# movies_path = '/content/drive/MyDrive/movielens/raw/ml-100k/u.item'\n",
        "# movies = pd.read_csv(movies_path, sep='|', encoding='ISO-8859-1', header=None)\n",
        "# genre_columns = ['unknown', 'Action', 'Adventure', 'Animation', 'Children', 'Comedy', 'Crime',\n",
        "#                  'Documentary', 'Drama', 'Fantasy', 'Film-Noir', 'Horror', 'Musical', 'Mystery',\n",
        "#                  'Romance', 'Sci-Fi', 'Thriller', 'War', 'Western']\n",
        "# column_names = ['movie_id', 'title', 'release_date', 'video_release_date',\n",
        "#                 'IMDb_URL'] + genre_columnså\n",
        "# movies.columns = column_names\n",
        "# def concatenate_genres(row):\n",
        "#     genres = [genre for genre in genre_columns if row[genre] == 1]\n",
        "#     return '|'.join(genres)\n",
        "# movies['genres'] = movies.apply(concatenate_genres, axis=1)\n",
        "# movies = movies[['movie_id', 'title', 'genres']]\n",
        "# movies.loc[:, 'movie_id'] = movies.loc[:, 'movie_id'].apply(lambda x: f'movie_{x}')\n",
        "\n",
        "# # loading ratings\n",
        "# ratings_path = '/content/drive/MyDrive/movielens/raw/ml-100k/u.data'\n",
        "# ratings = pd.read_csv(ratings_path, sep='\\t', names=['user_id', 'movie_id', 'rating', 'timestamp'])\n",
        "# ratings[\"rating\"] = ratings[\"rating\"].apply(lambda x: float(x))\n",
        "# ratings[\"movie_id\"] = ratings[\"movie_id\"].apply(lambda x: f\"movie_{x}\")\n",
        "# ratings = ratings.sort_values(by=['user_id', 'movie_id'])\n",
        "\n",
        "\n",
        "# print(\"Ratings data shape:\", movies.shape)\n",
        "# print(\"Ratings data shape:\", ratings.shape)"
      ],
      "metadata": {
        "id": "kp4yOc4Q2b0E"
      },
      "execution_count": null,
      "outputs": []
    },
    {
      "cell_type": "code",
      "source": [
        "movies_path = '/content/drive/MyDrive/movielens/raw/ml-25m/movies.csv'\n",
        "ratings_path = '/content/drive/MyDrive/movielens/raw/ml-25m/ratings.csv'\n",
        "# Load movies to a DataFrame.\n",
        "movies = pd.read_csv(movies_path)\n",
        "# Create a `movieId` string.\n",
        "movies[\"movieId\"] = movies[\"movieId\"].apply(lambda x: f\"movie_{x}\")\n",
        "\n",
        "# Load ratings to a DataFrame.\n",
        "ratings = pd.read_csv(ratings_path)\n",
        "# Convert the `ratings` to floating point\n",
        "ratings[\"rating\"] = ratings[\"rating\"].apply(lambda x: float(x))\n",
        "# Create the `movie_id` string.\n",
        "ratings[\"movieId\"] = ratings[\"movieId\"].apply(lambda x: f\"movie_{x}\")\n",
        "\n",
        "print(\"Movies data shape:\", movies.shape)\n",
        "print(\"Ratings data shape:\", ratings.shape)\n",
        "movies.rename(columns = {'movieId':'movie_id'}, inplace = True)\n",
        "ratings.rename(columns = {'movieId':'movie_id', 'userId': 'user_id'}, inplace = True)"
      ],
      "metadata": {
        "id": "ES6auC9T6NGh",
        "colab": {
          "base_uri": "https://localhost:8080/"
        },
        "outputId": "2537d937-a357-4b85-bafc-05091aa1a8d1"
      },
      "execution_count": null,
      "outputs": [
        {
          "output_type": "stream",
          "name": "stdout",
          "text": [
            "Movies data shape: (62423, 3)\n",
            "Ratings data shape: (25000095, 4)\n"
          ]
        }
      ]
    },
    {
      "cell_type": "code",
      "source": [
        "movies.head()"
      ],
      "metadata": {
        "id": "FeX0-3cm5_2G",
        "colab": {
          "base_uri": "https://localhost:8080/",
          "height": 206
        },
        "outputId": "b68e7d29-7ba6-4a9e-e981-8121ecc5a312"
      },
      "execution_count": null,
      "outputs": [
        {
          "output_type": "execute_result",
          "data": {
            "text/plain": [
              "  movie_id                               title  \\\n",
              "0  movie_1                    Toy Story (1995)   \n",
              "1  movie_2                      Jumanji (1995)   \n",
              "2  movie_3             Grumpier Old Men (1995)   \n",
              "3  movie_4            Waiting to Exhale (1995)   \n",
              "4  movie_5  Father of the Bride Part II (1995)   \n",
              "\n",
              "                                        genres  \n",
              "0  Adventure|Animation|Children|Comedy|Fantasy  \n",
              "1                   Adventure|Children|Fantasy  \n",
              "2                               Comedy|Romance  \n",
              "3                         Comedy|Drama|Romance  \n",
              "4                                       Comedy  "
            ],
            "text/html": [
              "\n",
              "  <div id=\"df-bfd4caf9-d5b0-4868-b629-3d4a0376bc34\" class=\"colab-df-container\">\n",
              "    <div>\n",
              "<style scoped>\n",
              "    .dataframe tbody tr th:only-of-type {\n",
              "        vertical-align: middle;\n",
              "    }\n",
              "\n",
              "    .dataframe tbody tr th {\n",
              "        vertical-align: top;\n",
              "    }\n",
              "\n",
              "    .dataframe thead th {\n",
              "        text-align: right;\n",
              "    }\n",
              "</style>\n",
              "<table border=\"1\" class=\"dataframe\">\n",
              "  <thead>\n",
              "    <tr style=\"text-align: right;\">\n",
              "      <th></th>\n",
              "      <th>movie_id</th>\n",
              "      <th>title</th>\n",
              "      <th>genres</th>\n",
              "    </tr>\n",
              "  </thead>\n",
              "  <tbody>\n",
              "    <tr>\n",
              "      <th>0</th>\n",
              "      <td>movie_1</td>\n",
              "      <td>Toy Story (1995)</td>\n",
              "      <td>Adventure|Animation|Children|Comedy|Fantasy</td>\n",
              "    </tr>\n",
              "    <tr>\n",
              "      <th>1</th>\n",
              "      <td>movie_2</td>\n",
              "      <td>Jumanji (1995)</td>\n",
              "      <td>Adventure|Children|Fantasy</td>\n",
              "    </tr>\n",
              "    <tr>\n",
              "      <th>2</th>\n",
              "      <td>movie_3</td>\n",
              "      <td>Grumpier Old Men (1995)</td>\n",
              "      <td>Comedy|Romance</td>\n",
              "    </tr>\n",
              "    <tr>\n",
              "      <th>3</th>\n",
              "      <td>movie_4</td>\n",
              "      <td>Waiting to Exhale (1995)</td>\n",
              "      <td>Comedy|Drama|Romance</td>\n",
              "    </tr>\n",
              "    <tr>\n",
              "      <th>4</th>\n",
              "      <td>movie_5</td>\n",
              "      <td>Father of the Bride Part II (1995)</td>\n",
              "      <td>Comedy</td>\n",
              "    </tr>\n",
              "  </tbody>\n",
              "</table>\n",
              "</div>\n",
              "    <div class=\"colab-df-buttons\">\n",
              "\n",
              "  <div class=\"colab-df-container\">\n",
              "    <button class=\"colab-df-convert\" onclick=\"convertToInteractive('df-bfd4caf9-d5b0-4868-b629-3d4a0376bc34')\"\n",
              "            title=\"Convert this dataframe to an interactive table.\"\n",
              "            style=\"display:none;\">\n",
              "\n",
              "  <svg xmlns=\"http://www.w3.org/2000/svg\" height=\"24px\" viewBox=\"0 -960 960 960\">\n",
              "    <path d=\"M120-120v-720h720v720H120Zm60-500h600v-160H180v160Zm220 220h160v-160H400v160Zm0 220h160v-160H400v160ZM180-400h160v-160H180v160Zm440 0h160v-160H620v160ZM180-180h160v-160H180v160Zm440 0h160v-160H620v160Z\"/>\n",
              "  </svg>\n",
              "    </button>\n",
              "\n",
              "  <style>\n",
              "    .colab-df-container {\n",
              "      display:flex;\n",
              "      gap: 12px;\n",
              "    }\n",
              "\n",
              "    .colab-df-convert {\n",
              "      background-color: #E8F0FE;\n",
              "      border: none;\n",
              "      border-radius: 50%;\n",
              "      cursor: pointer;\n",
              "      display: none;\n",
              "      fill: #1967D2;\n",
              "      height: 32px;\n",
              "      padding: 0 0 0 0;\n",
              "      width: 32px;\n",
              "    }\n",
              "\n",
              "    .colab-df-convert:hover {\n",
              "      background-color: #E2EBFA;\n",
              "      box-shadow: 0px 1px 2px rgba(60, 64, 67, 0.3), 0px 1px 3px 1px rgba(60, 64, 67, 0.15);\n",
              "      fill: #174EA6;\n",
              "    }\n",
              "\n",
              "    .colab-df-buttons div {\n",
              "      margin-bottom: 4px;\n",
              "    }\n",
              "\n",
              "    [theme=dark] .colab-df-convert {\n",
              "      background-color: #3B4455;\n",
              "      fill: #D2E3FC;\n",
              "    }\n",
              "\n",
              "    [theme=dark] .colab-df-convert:hover {\n",
              "      background-color: #434B5C;\n",
              "      box-shadow: 0px 1px 3px 1px rgba(0, 0, 0, 0.15);\n",
              "      filter: drop-shadow(0px 1px 2px rgba(0, 0, 0, 0.3));\n",
              "      fill: #FFFFFF;\n",
              "    }\n",
              "  </style>\n",
              "\n",
              "    <script>\n",
              "      const buttonEl =\n",
              "        document.querySelector('#df-bfd4caf9-d5b0-4868-b629-3d4a0376bc34 button.colab-df-convert');\n",
              "      buttonEl.style.display =\n",
              "        google.colab.kernel.accessAllowed ? 'block' : 'none';\n",
              "\n",
              "      async function convertToInteractive(key) {\n",
              "        const element = document.querySelector('#df-bfd4caf9-d5b0-4868-b629-3d4a0376bc34');\n",
              "        const dataTable =\n",
              "          await google.colab.kernel.invokeFunction('convertToInteractive',\n",
              "                                                    [key], {});\n",
              "        if (!dataTable) return;\n",
              "\n",
              "        const docLinkHtml = 'Like what you see? Visit the ' +\n",
              "          '<a target=\"_blank\" href=https://colab.research.google.com/notebooks/data_table.ipynb>data table notebook</a>'\n",
              "          + ' to learn more about interactive tables.';\n",
              "        element.innerHTML = '';\n",
              "        dataTable['output_type'] = 'display_data';\n",
              "        await google.colab.output.renderOutput(dataTable, element);\n",
              "        const docLink = document.createElement('div');\n",
              "        docLink.innerHTML = docLinkHtml;\n",
              "        element.appendChild(docLink);\n",
              "      }\n",
              "    </script>\n",
              "  </div>\n",
              "\n",
              "\n",
              "<div id=\"df-a65e5d60-3322-4e40-8294-4de8bf28e4fc\">\n",
              "  <button class=\"colab-df-quickchart\" onclick=\"quickchart('df-a65e5d60-3322-4e40-8294-4de8bf28e4fc')\"\n",
              "            title=\"Suggest charts\"\n",
              "            style=\"display:none;\">\n",
              "\n",
              "<svg xmlns=\"http://www.w3.org/2000/svg\" height=\"24px\"viewBox=\"0 0 24 24\"\n",
              "     width=\"24px\">\n",
              "    <g>\n",
              "        <path d=\"M19 3H5c-1.1 0-2 .9-2 2v14c0 1.1.9 2 2 2h14c1.1 0 2-.9 2-2V5c0-1.1-.9-2-2-2zM9 17H7v-7h2v7zm4 0h-2V7h2v10zm4 0h-2v-4h2v4z\"/>\n",
              "    </g>\n",
              "</svg>\n",
              "  </button>\n",
              "\n",
              "<style>\n",
              "  .colab-df-quickchart {\n",
              "      --bg-color: #E8F0FE;\n",
              "      --fill-color: #1967D2;\n",
              "      --hover-bg-color: #E2EBFA;\n",
              "      --hover-fill-color: #174EA6;\n",
              "      --disabled-fill-color: #AAA;\n",
              "      --disabled-bg-color: #DDD;\n",
              "  }\n",
              "\n",
              "  [theme=dark] .colab-df-quickchart {\n",
              "      --bg-color: #3B4455;\n",
              "      --fill-color: #D2E3FC;\n",
              "      --hover-bg-color: #434B5C;\n",
              "      --hover-fill-color: #FFFFFF;\n",
              "      --disabled-bg-color: #3B4455;\n",
              "      --disabled-fill-color: #666;\n",
              "  }\n",
              "\n",
              "  .colab-df-quickchart {\n",
              "    background-color: var(--bg-color);\n",
              "    border: none;\n",
              "    border-radius: 50%;\n",
              "    cursor: pointer;\n",
              "    display: none;\n",
              "    fill: var(--fill-color);\n",
              "    height: 32px;\n",
              "    padding: 0;\n",
              "    width: 32px;\n",
              "  }\n",
              "\n",
              "  .colab-df-quickchart:hover {\n",
              "    background-color: var(--hover-bg-color);\n",
              "    box-shadow: 0 1px 2px rgba(60, 64, 67, 0.3), 0 1px 3px 1px rgba(60, 64, 67, 0.15);\n",
              "    fill: var(--button-hover-fill-color);\n",
              "  }\n",
              "\n",
              "  .colab-df-quickchart-complete:disabled,\n",
              "  .colab-df-quickchart-complete:disabled:hover {\n",
              "    background-color: var(--disabled-bg-color);\n",
              "    fill: var(--disabled-fill-color);\n",
              "    box-shadow: none;\n",
              "  }\n",
              "\n",
              "  .colab-df-spinner {\n",
              "    border: 2px solid var(--fill-color);\n",
              "    border-color: transparent;\n",
              "    border-bottom-color: var(--fill-color);\n",
              "    animation:\n",
              "      spin 1s steps(1) infinite;\n",
              "  }\n",
              "\n",
              "  @keyframes spin {\n",
              "    0% {\n",
              "      border-color: transparent;\n",
              "      border-bottom-color: var(--fill-color);\n",
              "      border-left-color: var(--fill-color);\n",
              "    }\n",
              "    20% {\n",
              "      border-color: transparent;\n",
              "      border-left-color: var(--fill-color);\n",
              "      border-top-color: var(--fill-color);\n",
              "    }\n",
              "    30% {\n",
              "      border-color: transparent;\n",
              "      border-left-color: var(--fill-color);\n",
              "      border-top-color: var(--fill-color);\n",
              "      border-right-color: var(--fill-color);\n",
              "    }\n",
              "    40% {\n",
              "      border-color: transparent;\n",
              "      border-right-color: var(--fill-color);\n",
              "      border-top-color: var(--fill-color);\n",
              "    }\n",
              "    60% {\n",
              "      border-color: transparent;\n",
              "      border-right-color: var(--fill-color);\n",
              "    }\n",
              "    80% {\n",
              "      border-color: transparent;\n",
              "      border-right-color: var(--fill-color);\n",
              "      border-bottom-color: var(--fill-color);\n",
              "    }\n",
              "    90% {\n",
              "      border-color: transparent;\n",
              "      border-bottom-color: var(--fill-color);\n",
              "    }\n",
              "  }\n",
              "</style>\n",
              "\n",
              "  <script>\n",
              "    async function quickchart(key) {\n",
              "      const quickchartButtonEl =\n",
              "        document.querySelector('#' + key + ' button');\n",
              "      quickchartButtonEl.disabled = true;  // To prevent multiple clicks.\n",
              "      quickchartButtonEl.classList.add('colab-df-spinner');\n",
              "      try {\n",
              "        const charts = await google.colab.kernel.invokeFunction(\n",
              "            'suggestCharts', [key], {});\n",
              "      } catch (error) {\n",
              "        console.error('Error during call to suggestCharts:', error);\n",
              "      }\n",
              "      quickchartButtonEl.classList.remove('colab-df-spinner');\n",
              "      quickchartButtonEl.classList.add('colab-df-quickchart-complete');\n",
              "    }\n",
              "    (() => {\n",
              "      let quickchartButtonEl =\n",
              "        document.querySelector('#df-a65e5d60-3322-4e40-8294-4de8bf28e4fc button');\n",
              "      quickchartButtonEl.style.display =\n",
              "        google.colab.kernel.accessAllowed ? 'block' : 'none';\n",
              "    })();\n",
              "  </script>\n",
              "</div>\n",
              "    </div>\n",
              "  </div>\n"
            ]
          },
          "metadata": {},
          "execution_count": 4
        }
      ]
    },
    {
      "cell_type": "code",
      "source": [
        "ratings.head()"
      ],
      "metadata": {
        "id": "zai8wSoF6AmU",
        "colab": {
          "base_uri": "https://localhost:8080/",
          "height": 206
        },
        "outputId": "75ab028e-f45c-4eb3-8b78-c10b49722917"
      },
      "execution_count": null,
      "outputs": [
        {
          "output_type": "execute_result",
          "data": {
            "text/plain": [
              "   user_id   movie_id  rating   timestamp\n",
              "0        1  movie_296     5.0  1147880044\n",
              "1        1  movie_306     3.5  1147868817\n",
              "2        1  movie_307     5.0  1147868828\n",
              "3        1  movie_665     5.0  1147878820\n",
              "4        1  movie_899     3.5  1147868510"
            ],
            "text/html": [
              "\n",
              "  <div id=\"df-1a2dd363-1d91-49d9-93a4-69881952f68b\" class=\"colab-df-container\">\n",
              "    <div>\n",
              "<style scoped>\n",
              "    .dataframe tbody tr th:only-of-type {\n",
              "        vertical-align: middle;\n",
              "    }\n",
              "\n",
              "    .dataframe tbody tr th {\n",
              "        vertical-align: top;\n",
              "    }\n",
              "\n",
              "    .dataframe thead th {\n",
              "        text-align: right;\n",
              "    }\n",
              "</style>\n",
              "<table border=\"1\" class=\"dataframe\">\n",
              "  <thead>\n",
              "    <tr style=\"text-align: right;\">\n",
              "      <th></th>\n",
              "      <th>user_id</th>\n",
              "      <th>movie_id</th>\n",
              "      <th>rating</th>\n",
              "      <th>timestamp</th>\n",
              "    </tr>\n",
              "  </thead>\n",
              "  <tbody>\n",
              "    <tr>\n",
              "      <th>0</th>\n",
              "      <td>1</td>\n",
              "      <td>movie_296</td>\n",
              "      <td>5.0</td>\n",
              "      <td>1147880044</td>\n",
              "    </tr>\n",
              "    <tr>\n",
              "      <th>1</th>\n",
              "      <td>1</td>\n",
              "      <td>movie_306</td>\n",
              "      <td>3.5</td>\n",
              "      <td>1147868817</td>\n",
              "    </tr>\n",
              "    <tr>\n",
              "      <th>2</th>\n",
              "      <td>1</td>\n",
              "      <td>movie_307</td>\n",
              "      <td>5.0</td>\n",
              "      <td>1147868828</td>\n",
              "    </tr>\n",
              "    <tr>\n",
              "      <th>3</th>\n",
              "      <td>1</td>\n",
              "      <td>movie_665</td>\n",
              "      <td>5.0</td>\n",
              "      <td>1147878820</td>\n",
              "    </tr>\n",
              "    <tr>\n",
              "      <th>4</th>\n",
              "      <td>1</td>\n",
              "      <td>movie_899</td>\n",
              "      <td>3.5</td>\n",
              "      <td>1147868510</td>\n",
              "    </tr>\n",
              "  </tbody>\n",
              "</table>\n",
              "</div>\n",
              "    <div class=\"colab-df-buttons\">\n",
              "\n",
              "  <div class=\"colab-df-container\">\n",
              "    <button class=\"colab-df-convert\" onclick=\"convertToInteractive('df-1a2dd363-1d91-49d9-93a4-69881952f68b')\"\n",
              "            title=\"Convert this dataframe to an interactive table.\"\n",
              "            style=\"display:none;\">\n",
              "\n",
              "  <svg xmlns=\"http://www.w3.org/2000/svg\" height=\"24px\" viewBox=\"0 -960 960 960\">\n",
              "    <path d=\"M120-120v-720h720v720H120Zm60-500h600v-160H180v160Zm220 220h160v-160H400v160Zm0 220h160v-160H400v160ZM180-400h160v-160H180v160Zm440 0h160v-160H620v160ZM180-180h160v-160H180v160Zm440 0h160v-160H620v160Z\"/>\n",
              "  </svg>\n",
              "    </button>\n",
              "\n",
              "  <style>\n",
              "    .colab-df-container {\n",
              "      display:flex;\n",
              "      gap: 12px;\n",
              "    }\n",
              "\n",
              "    .colab-df-convert {\n",
              "      background-color: #E8F0FE;\n",
              "      border: none;\n",
              "      border-radius: 50%;\n",
              "      cursor: pointer;\n",
              "      display: none;\n",
              "      fill: #1967D2;\n",
              "      height: 32px;\n",
              "      padding: 0 0 0 0;\n",
              "      width: 32px;\n",
              "    }\n",
              "\n",
              "    .colab-df-convert:hover {\n",
              "      background-color: #E2EBFA;\n",
              "      box-shadow: 0px 1px 2px rgba(60, 64, 67, 0.3), 0px 1px 3px 1px rgba(60, 64, 67, 0.15);\n",
              "      fill: #174EA6;\n",
              "    }\n",
              "\n",
              "    .colab-df-buttons div {\n",
              "      margin-bottom: 4px;\n",
              "    }\n",
              "\n",
              "    [theme=dark] .colab-df-convert {\n",
              "      background-color: #3B4455;\n",
              "      fill: #D2E3FC;\n",
              "    }\n",
              "\n",
              "    [theme=dark] .colab-df-convert:hover {\n",
              "      background-color: #434B5C;\n",
              "      box-shadow: 0px 1px 3px 1px rgba(0, 0, 0, 0.15);\n",
              "      filter: drop-shadow(0px 1px 2px rgba(0, 0, 0, 0.3));\n",
              "      fill: #FFFFFF;\n",
              "    }\n",
              "  </style>\n",
              "\n",
              "    <script>\n",
              "      const buttonEl =\n",
              "        document.querySelector('#df-1a2dd363-1d91-49d9-93a4-69881952f68b button.colab-df-convert');\n",
              "      buttonEl.style.display =\n",
              "        google.colab.kernel.accessAllowed ? 'block' : 'none';\n",
              "\n",
              "      async function convertToInteractive(key) {\n",
              "        const element = document.querySelector('#df-1a2dd363-1d91-49d9-93a4-69881952f68b');\n",
              "        const dataTable =\n",
              "          await google.colab.kernel.invokeFunction('convertToInteractive',\n",
              "                                                    [key], {});\n",
              "        if (!dataTable) return;\n",
              "\n",
              "        const docLinkHtml = 'Like what you see? Visit the ' +\n",
              "          '<a target=\"_blank\" href=https://colab.research.google.com/notebooks/data_table.ipynb>data table notebook</a>'\n",
              "          + ' to learn more about interactive tables.';\n",
              "        element.innerHTML = '';\n",
              "        dataTable['output_type'] = 'display_data';\n",
              "        await google.colab.output.renderOutput(dataTable, element);\n",
              "        const docLink = document.createElement('div');\n",
              "        docLink.innerHTML = docLinkHtml;\n",
              "        element.appendChild(docLink);\n",
              "      }\n",
              "    </script>\n",
              "  </div>\n",
              "\n",
              "\n",
              "<div id=\"df-8b93fdb7-6d1a-4266-83ce-f8e32b779136\">\n",
              "  <button class=\"colab-df-quickchart\" onclick=\"quickchart('df-8b93fdb7-6d1a-4266-83ce-f8e32b779136')\"\n",
              "            title=\"Suggest charts\"\n",
              "            style=\"display:none;\">\n",
              "\n",
              "<svg xmlns=\"http://www.w3.org/2000/svg\" height=\"24px\"viewBox=\"0 0 24 24\"\n",
              "     width=\"24px\">\n",
              "    <g>\n",
              "        <path d=\"M19 3H5c-1.1 0-2 .9-2 2v14c0 1.1.9 2 2 2h14c1.1 0 2-.9 2-2V5c0-1.1-.9-2-2-2zM9 17H7v-7h2v7zm4 0h-2V7h2v10zm4 0h-2v-4h2v4z\"/>\n",
              "    </g>\n",
              "</svg>\n",
              "  </button>\n",
              "\n",
              "<style>\n",
              "  .colab-df-quickchart {\n",
              "      --bg-color: #E8F0FE;\n",
              "      --fill-color: #1967D2;\n",
              "      --hover-bg-color: #E2EBFA;\n",
              "      --hover-fill-color: #174EA6;\n",
              "      --disabled-fill-color: #AAA;\n",
              "      --disabled-bg-color: #DDD;\n",
              "  }\n",
              "\n",
              "  [theme=dark] .colab-df-quickchart {\n",
              "      --bg-color: #3B4455;\n",
              "      --fill-color: #D2E3FC;\n",
              "      --hover-bg-color: #434B5C;\n",
              "      --hover-fill-color: #FFFFFF;\n",
              "      --disabled-bg-color: #3B4455;\n",
              "      --disabled-fill-color: #666;\n",
              "  }\n",
              "\n",
              "  .colab-df-quickchart {\n",
              "    background-color: var(--bg-color);\n",
              "    border: none;\n",
              "    border-radius: 50%;\n",
              "    cursor: pointer;\n",
              "    display: none;\n",
              "    fill: var(--fill-color);\n",
              "    height: 32px;\n",
              "    padding: 0;\n",
              "    width: 32px;\n",
              "  }\n",
              "\n",
              "  .colab-df-quickchart:hover {\n",
              "    background-color: var(--hover-bg-color);\n",
              "    box-shadow: 0 1px 2px rgba(60, 64, 67, 0.3), 0 1px 3px 1px rgba(60, 64, 67, 0.15);\n",
              "    fill: var(--button-hover-fill-color);\n",
              "  }\n",
              "\n",
              "  .colab-df-quickchart-complete:disabled,\n",
              "  .colab-df-quickchart-complete:disabled:hover {\n",
              "    background-color: var(--disabled-bg-color);\n",
              "    fill: var(--disabled-fill-color);\n",
              "    box-shadow: none;\n",
              "  }\n",
              "\n",
              "  .colab-df-spinner {\n",
              "    border: 2px solid var(--fill-color);\n",
              "    border-color: transparent;\n",
              "    border-bottom-color: var(--fill-color);\n",
              "    animation:\n",
              "      spin 1s steps(1) infinite;\n",
              "  }\n",
              "\n",
              "  @keyframes spin {\n",
              "    0% {\n",
              "      border-color: transparent;\n",
              "      border-bottom-color: var(--fill-color);\n",
              "      border-left-color: var(--fill-color);\n",
              "    }\n",
              "    20% {\n",
              "      border-color: transparent;\n",
              "      border-left-color: var(--fill-color);\n",
              "      border-top-color: var(--fill-color);\n",
              "    }\n",
              "    30% {\n",
              "      border-color: transparent;\n",
              "      border-left-color: var(--fill-color);\n",
              "      border-top-color: var(--fill-color);\n",
              "      border-right-color: var(--fill-color);\n",
              "    }\n",
              "    40% {\n",
              "      border-color: transparent;\n",
              "      border-right-color: var(--fill-color);\n",
              "      border-top-color: var(--fill-color);\n",
              "    }\n",
              "    60% {\n",
              "      border-color: transparent;\n",
              "      border-right-color: var(--fill-color);\n",
              "    }\n",
              "    80% {\n",
              "      border-color: transparent;\n",
              "      border-right-color: var(--fill-color);\n",
              "      border-bottom-color: var(--fill-color);\n",
              "    }\n",
              "    90% {\n",
              "      border-color: transparent;\n",
              "      border-bottom-color: var(--fill-color);\n",
              "    }\n",
              "  }\n",
              "</style>\n",
              "\n",
              "  <script>\n",
              "    async function quickchart(key) {\n",
              "      const quickchartButtonEl =\n",
              "        document.querySelector('#' + key + ' button');\n",
              "      quickchartButtonEl.disabled = true;  // To prevent multiple clicks.\n",
              "      quickchartButtonEl.classList.add('colab-df-spinner');\n",
              "      try {\n",
              "        const charts = await google.colab.kernel.invokeFunction(\n",
              "            'suggestCharts', [key], {});\n",
              "      } catch (error) {\n",
              "        console.error('Error during call to suggestCharts:', error);\n",
              "      }\n",
              "      quickchartButtonEl.classList.remove('colab-df-spinner');\n",
              "      quickchartButtonEl.classList.add('colab-df-quickchart-complete');\n",
              "    }\n",
              "    (() => {\n",
              "      let quickchartButtonEl =\n",
              "        document.querySelector('#df-8b93fdb7-6d1a-4266-83ce-f8e32b779136 button');\n",
              "      quickchartButtonEl.style.display =\n",
              "        google.colab.kernel.accessAllowed ? 'block' : 'none';\n",
              "    })();\n",
              "  </script>\n",
              "</div>\n",
              "    </div>\n",
              "  </div>\n"
            ]
          },
          "metadata": {},
          "execution_count": 5
        }
      ]
    },
    {
      "cell_type": "markdown",
      "source": [
        "step 1.1: defining utility functions"
      ],
      "metadata": {
        "id": "KnnZyovD3spe"
      }
    },
    {
      "cell_type": "code",
      "source": [
        "def get_movie_title_by_id(movieId):\n",
        "    return list(movies[movies.movie_id == movieId].title)[0]\n",
        "\n",
        "def get_movie_id_by_title(title):\n",
        "    return list(movies[movies.title == title].movie_id)[0]"
      ],
      "metadata": {
        "id": "lSoanafu3ft4"
      },
      "execution_count": null,
      "outputs": []
    },
    {
      "cell_type": "code",
      "source": [
        "# checking utility functions\n",
        "print(get_movie_title_by_id('movie_1'))\n",
        "print(get_movie_id_by_title('Toy Story (1995)'))"
      ],
      "metadata": {
        "id": "AU-d4COVcDz2",
        "colab": {
          "base_uri": "https://localhost:8080/"
        },
        "outputId": "849ef0cd-425f-4ac1-ecf3-007fe8fde170"
      },
      "execution_count": null,
      "outputs": [
        {
          "output_type": "stream",
          "name": "stdout",
          "text": [
            "Toy Story (1995)\n",
            "movie_1\n"
          ]
        }
      ]
    },
    {
      "cell_type": "markdown",
      "source": [
        "step 2: creating weighted edges between movies"
      ],
      "metadata": {
        "id": "ys2KZ3yi3vxy"
      }
    },
    {
      "cell_type": "code",
      "source": [
        "min_rating = 5\n",
        "pair_frequency = defaultdict(int)\n",
        "item_frequency = defaultdict(int)\n",
        "\n",
        "rated_movies = ratings[ratings.rating >= min_rating]\n",
        "movies_grouped_by_users = list(rated_movies.groupby(\"user_id\"))\n",
        "for group in tqdm(\n",
        "    movies_grouped_by_users,\n",
        "    position=0,\n",
        "    leave=True,\n",
        "    desc=\"Computing movie rating frequencies\",\n",
        "):\n",
        "    current_movies = list(group[1][\"movie_id\"])\n",
        "\n",
        "    for i in range(len(current_movies)):\n",
        "        item_frequency[current_movies[i]] += 1\n",
        "        for j in range(i + 1, len(current_movies)):\n",
        "            x = min(current_movies[i], current_movies[j])\n",
        "            y = max(current_movies[i], current_movies[j])\n",
        "            pair_frequency[(x, y)] += 1"
      ],
      "metadata": {
        "id": "AiW9Rzl-3nO0",
        "colab": {
          "base_uri": "https://localhost:8080/"
        },
        "outputId": "da5ed9e7-092f-4fa0-a24d-3887fb799d1f"
      },
      "execution_count": null,
      "outputs": [
        {
          "output_type": "stream",
          "name": "stderr",
          "text": [
            "Computing movie rating frequencies: 100%|██████████| 155002/155002 [03:27<00:00, 747.88it/s]\n"
          ]
        }
      ]
    },
    {
      "cell_type": "code",
      "source": [
        "user_movie_counts = [len(group[1][\"movie_id\"]) for group in movies_grouped_by_users]\n",
        "print(\"Average number of high-rated movies per user:\", sum(user_movie_counts) / len(user_movie_counts))"
      ],
      "metadata": {
        "id": "V__qVCn-9nd3",
        "colab": {
          "base_uri": "https://localhost:8080/"
        },
        "outputId": "fb617844-de66-4494-8a44-8ac21a3b5b4c"
      },
      "execution_count": null,
      "outputs": [
        {
          "output_type": "stream",
          "name": "stdout",
          "text": [
            "Average number of high-rated movies per user: 23.305983148604533\n"
          ]
        }
      ]
    },
    {
      "cell_type": "markdown",
      "source": [
        "step 3: creating graph using nodes and edges"
      ],
      "metadata": {
        "id": "2yAX20Kh4BI8"
      }
    },
    {
      "cell_type": "code",
      "source": [
        "min_weight = 30\n",
        "D = math.log(sum(item_frequency.values()))\n",
        "movies_graph = nx.Graph()\n",
        "for pair in tqdm(\n",
        "    pair_frequency, position=0, leave=True, desc=\"Creating the movie graph\"\n",
        "):\n",
        "    x, y = pair\n",
        "    xy_frequency = pair_frequency[pair]\n",
        "    x_frequency = item_frequency[x]\n",
        "    y_frequency = item_frequency[y]\n",
        "    pmi = math.log(xy_frequency) - math.log(x_frequency) - math.log(y_frequency) + D\n",
        "    weight = pmi * xy_frequency\n",
        "    if weight >= min_weight:\n",
        "        movies_graph.add_edge(x, y, weight=weight)"
      ],
      "metadata": {
        "id": "_6wYm-Sj4FOE",
        "colab": {
          "base_uri": "https://localhost:8080/"
        },
        "outputId": "89b73a84-2efb-4a7b-a7e3-7fe29167e210"
      },
      "execution_count": null,
      "outputs": [
        {
          "output_type": "stream",
          "name": "stderr",
          "text": [
            "Creating the movie graph:   0%|          | 35838/35323774 [00:00<01:38, 358353.86it/s]"
          ]
        }
      ]
    },
    {
      "cell_type": "code",
      "source": [
        "plt.figure(figsize=(10, 10))\n",
        "pos = nx.spring_layout(movies_graph)\n",
        "nx.draw_networkx_nodes(movies_graph, pos, node_size=100)\n",
        "nx.draw_networkx_edges(movies_graph, pos, width=1.0, alpha=0.5)\n",
        "nx.draw_networkx_labels(movies_graph, pos, font_size=5, font_family=\"sans-serif\")\n",
        "plt.axis(\"off\")\n",
        "plt.show()\n",
        "plt.savefig('ml-100k-graph.png')"
      ],
      "metadata": {
        "id": "is7w_RJg-eDB"
      },
      "execution_count": null,
      "outputs": []
    },
    {
      "cell_type": "code",
      "source": [
        "print(\"Total number of graph nodes:\", movies_graph.number_of_nodes())\n",
        "print(\"Total number of graph edges:\", movies_graph.number_of_edges())"
      ],
      "metadata": {
        "id": "IWhjeynU4Ise"
      },
      "execution_count": null,
      "outputs": []
    },
    {
      "cell_type": "code",
      "source": [
        "degrees = []\n",
        "for node in movies_graph.nodes:\n",
        "    degrees.append(movies_graph.degree[node])\n",
        "\n",
        "print(\"Average node degree:\", round(sum(degrees) / len(degrees), 2))"
      ],
      "metadata": {
        "id": "nAutngTc4PUc"
      },
      "execution_count": null,
      "outputs": []
    },
    {
      "cell_type": "markdown",
      "source": [
        "step 3: create a dictionary from movies to indices"
      ],
      "metadata": {
        "id": "HSdTWaS34Yf9"
      }
    },
    {
      "cell_type": "code",
      "source": [
        "vocabulary = [\"NA\"] + list(movies_graph.nodes)\n",
        "vocabulary_lookup = {token: idx for idx, token in enumerate(vocabulary)}"
      ],
      "metadata": {
        "id": "_eHKcxZO4YAt"
      },
      "execution_count": null,
      "outputs": []
    },
    {
      "cell_type": "markdown",
      "source": [
        "step 4: implementing biased random walk"
      ],
      "metadata": {
        "id": "NBwVb_lA4xTe"
      }
    },
    {
      "cell_type": "code",
      "source": [
        "def next_step(graph, previous, current, p, q):\n",
        "    neighbors = list(graph.neighbors(current))\n",
        "\n",
        "    weights = []\n",
        "    for neighbor in neighbors:\n",
        "        if neighbor == previous:\n",
        "            weights.append(graph[current][neighbor][\"weight\"] / p)\n",
        "        elif graph.has_edge(neighbor, previous):\n",
        "            weights.append(graph[current][neighbor][\"weight\"])\n",
        "        else:\n",
        "            weights.append(graph[current][neighbor][\"weight\"] / q)\n",
        "    weight_sum = sum(weights)\n",
        "    probabilities = [weight / weight_sum for weight in weights]\n",
        "    next = np.random.choice(neighbors, size=1, p=probabilities)[0]\n",
        "    return next\n",
        "\n",
        "def random_walk(graph, num_walks, num_steps, p, q):\n",
        "    walks = []\n",
        "    nodes = list(graph.nodes())\n",
        "    for walk_iteration in range(num_walks):\n",
        "        random.shuffle(nodes)\n",
        "        for node in tqdm(\n",
        "            nodes,\n",
        "            position=0,\n",
        "            leave=True,\n",
        "            desc=f\"Random walks iteration {walk_iteration + 1} of {num_walks}\",\n",
        "        ):\n",
        "            walk = [node]\n",
        "            while len(walk) < num_steps:\n",
        "                current = walk[-1]\n",
        "                previous = walk[-2] if len(walk) > 1 else None\n",
        "                next = next_step(graph, previous, current, p, q)\n",
        "                walk.append(next)\n",
        "            walk = [vocabulary_lookup[token] for token in walk]\n",
        "            walks.append(walk)\n",
        "    return walks"
      ],
      "metadata": {
        "id": "6OQAs8TI40wC"
      },
      "execution_count": null,
      "outputs": []
    },
    {
      "cell_type": "code",
      "source": [
        "# walk return param\n",
        "p = 1\n",
        "# walk in-out param\n",
        "q = 1\n",
        "num_walks = 10\n",
        "num_steps = 7\n",
        "walks = random_walk(movies_graph, num_walks, num_steps, p, q)\n",
        "print(\"\\nNumber of walks generated:\", len(walks))"
      ],
      "metadata": {
        "id": "ZYl6aqse486a"
      },
      "execution_count": null,
      "outputs": []
    },
    {
      "cell_type": "markdown",
      "source": [
        "step 5: generating positive and negative sampling"
      ],
      "metadata": {
        "id": "7AttHNKE5JN5"
      }
    },
    {
      "cell_type": "code",
      "source": [
        "def skipgram(\n",
        "    sequence,\n",
        "    vocabulary_size,\n",
        "    window_size=4,\n",
        "    negative_samples=1.0,\n",
        "    shuffle=True,\n",
        "    categorical=False,\n",
        "    sampling_table=None,\n",
        "    seed=None,\n",
        "):\n",
        "    couples = []\n",
        "    labels = []\n",
        "    for i, wi in enumerate(sequence):\n",
        "        if not wi:\n",
        "            continue\n",
        "        if sampling_table is not None:\n",
        "            if sampling_table[wi] < random.random():\n",
        "                continue\n",
        "\n",
        "        window_start = max(0, i - window_size)\n",
        "        window_end = min(len(sequence), i + window_size + 1)\n",
        "        for j in range(window_start, window_end):\n",
        "            if j != i:\n",
        "                wj = sequence[j]\n",
        "                if not wj:\n",
        "                    continue\n",
        "                couples.append([wi, wj])\n",
        "                if categorical:\n",
        "                    labels.append([0, 1])\n",
        "                else:\n",
        "                    labels.append(1)\n",
        "    if negative_samples > 0:\n",
        "        num_negative_samples = int(len(labels) * negative_samples)\n",
        "        words = [c[0] for c in couples]\n",
        "        random.shuffle(words)\n",
        "\n",
        "        couples += [\n",
        "            [words[i % len(words)], random.randint(1, vocabulary_size - 1)]\n",
        "            for i in range(num_negative_samples)\n",
        "        ]\n",
        "        if categorical:\n",
        "            labels += [[1, 0]] * num_negative_samples\n",
        "        else:\n",
        "            labels += [0] * num_negative_samples\n",
        "    if shuffle:\n",
        "        if seed is None:\n",
        "            seed = random.randint(0, 10e6)\n",
        "        random.seed(seed)\n",
        "        random.shuffle(couples)\n",
        "        random.seed(seed)\n",
        "        random.shuffle(labels)\n",
        "\n",
        "    return couples, labels"
      ],
      "metadata": {
        "id": "kqpnc1N65-Yw"
      },
      "execution_count": null,
      "outputs": []
    },
    {
      "cell_type": "code",
      "source": [
        "def generate_examples(sequences, window_size, num_negative_samples, vocabulary_size):\n",
        "    example_weights = defaultdict(int)\n",
        "    sample_size = 10\n",
        "    sample_pairs_labels = []\n",
        "    for sequence in tqdm(\n",
        "        sequences,\n",
        "        position=0,\n",
        "        leave=True,\n",
        "        desc=f\"Generating postive and negative examples\",\n",
        "    ):\n",
        "        pairs, labels = skipgram(\n",
        "            sequence,\n",
        "            vocabulary_size=vocabulary_size,\n",
        "            window_size=window_size,\n",
        "            negative_samples=num_negative_samples)\n",
        "        if len(sample_pairs_labels) < sample_size:\n",
        "            sample_indices = random.sample(range(len(pairs)), min(sample_size - len(sample_pairs_labels), len(pairs)))\n",
        "            sample_pairs_labels.extend([(pairs[i], labels[i]) for i in sample_indices])\n",
        "        for idx in range(len(pairs)):\n",
        "            pair = pairs[idx]\n",
        "            label = labels[idx]\n",
        "            target, context = min(pair[0], pair[1]), max(pair[0], pair[1])\n",
        "            if target == context:\n",
        "                continue\n",
        "            entry = (target, context, label)\n",
        "            example_weights[entry] += 1\n",
        "    for pair, label in sample_pairs_labels:\n",
        "        label_type = \"Positive\" if label == 1 else \"Negative\"\n",
        "        print(f\"Pair: {pair}, Label: {label} ({label_type})\")\n",
        "    targets, contexts, labels, weights = [], [], [], []\n",
        "    for entry in example_weights:\n",
        "        weight = example_weights[entry]\n",
        "        target, context, label = entry\n",
        "        targets.append(target)\n",
        "        contexts.append(context)\n",
        "        labels.append(label)\n",
        "        weights.append(weight)\n",
        "    return np.array(targets), np.array(contexts), np.array(labels), np.array(weights)\n",
        "num_negative_samples = 4\n",
        "targets, contexts, labels, weights = generate_examples(\n",
        "    sequences=walks,\n",
        "    window_size=num_steps,\n",
        "    num_negative_samples=num_negative_samples,\n",
        "    vocabulary_size=len(vocabulary)\n",
        ")"
      ],
      "metadata": {
        "id": "iVDWumXP5N5I"
      },
      "execution_count": null,
      "outputs": []
    },
    {
      "cell_type": "code",
      "source": [
        "print(f\"Targets shape: {targets.shape}\")\n",
        "print(f\"Contexts shape: {contexts.shape}\")\n",
        "print(f\"Labels shape: {labels.shape}\")\n",
        "print(f\"Weights shape: {weights.shape}\")\n",
        "assert len(targets) == len(contexts) == len(labels), \"Lengths of targets, contexts, and labels should be equal\"\n",
        "for i in range(10):\n",
        "    if labels[i] == 1:\n",
        "      print(\"target: \", get_movie_title_by_id(f'movie_{targets[i]}'))\n",
        "      print(\"context: \", get_movie_title_by_id(f'movie_{contexts[i]}'))\n",
        "positive_examples = sum(labels)\n",
        "negative_examples = len(labels) - positive_examples\n",
        "print(f\"Positive examples: {positive_examples}, Negative examples: {negative_examples}\")\n",
        "unique_pairs = set(zip(targets, contexts))\n",
        "for i, pair in enumerate(unique_pairs):\n",
        "    if i > 10: break\n",
        "    print(f\"Pair: {pair}, Weight: {weights[(targets == pair[0]) & (contexts == pair[1])].sum()}\")"
      ],
      "metadata": {
        "id": "4gSzHw6bM7Nb"
      },
      "execution_count": null,
      "outputs": []
    },
    {
      "cell_type": "markdown",
      "source": [
        "step 6: convert data to a dataloader"
      ],
      "metadata": {
        "id": "swfpg8v3NZCB"
      }
    },
    {
      "cell_type": "code",
      "source": [
        "from torch.utils.data import Dataset, DataLoader\n",
        "\n",
        "batch_size = 1024\n",
        "\n",
        "class SkipGramDataset(Dataset):\n",
        "    def __init__(self, targets, contexts, labels, weights):\n",
        "        self.targets = targets\n",
        "        self.contexts = contexts\n",
        "        self.labels = labels\n",
        "        self.weights = weights\n",
        "    def __len__(self):\n",
        "        return len(self.targets)\n",
        "    def __getitem__(self, idx):\n",
        "        return {\n",
        "            \"target\": self.targets[idx],\n",
        "            \"context\": self.contexts[idx],\n",
        "            \"label\": self.labels[idx],\n",
        "            \"weight\": self.weights[idx]}\n",
        "\n",
        "def create_dataset(targets, contexts, labels, weights, batch_size, num_workers=0):\n",
        "    dataset = SkipGramDataset(targets, contexts, labels, weights)\n",
        "    loader = DataLoader(dataset, batch_size=batch_size, shuffle=True, drop_last=True, num_workers=2)\n",
        "    return loader\n",
        "\n",
        "assert len(targets) == len(contexts) == len(labels) == len(weights), \"Input arrays must have the same length\"\n",
        "\n",
        "dataset = create_dataset(\n",
        "    targets=targets,\n",
        "    contexts=contexts,\n",
        "    labels=labels,\n",
        "    weights=weights,\n",
        "    batch_size=batch_size,\n",
        ")"
      ],
      "metadata": {
        "id": "XeX-WdkTNWQK"
      },
      "execution_count": null,
      "outputs": []
    },
    {
      "cell_type": "markdown",
      "source": [
        "step 7: training the dataloader"
      ],
      "metadata": {
        "id": "0ZBhVE4ANip9"
      }
    },
    {
      "cell_type": "code",
      "source": [
        "import torch\n",
        "import torch.nn as nn\n",
        "import torch.nn.functional as F\n",
        "import torch.nn.init as init\n",
        "\n",
        "class SkipGramModel(nn.Module):\n",
        "    def __init__(self, vocabulary_size, embedding_dim, l2_reg=1e-6):\n",
        "        super(SkipGramModel, self).__init__()\n",
        "        self.embed_item = nn.Embedding(vocabulary_size, embedding_dim)\n",
        "        self.l2_reg = l2_reg\n",
        "        init.kaiming_normal_(self.embed_item.weight, mode='fan_out')\n",
        "\n",
        "    def forward(self, target, context):\n",
        "        target_embeddings = self.embed_item(target)\n",
        "        context_embeddings = self.embed_item(context)\n",
        "        logits = (target_embeddings * context_embeddings).sum(dim=1)\n",
        "        return logits\n",
        "\n",
        "    def get_regularization_loss(self):\n",
        "        reg_loss = 0.0\n",
        "        for param in self.embed_item.parameters():\n",
        "            reg_loss += torch.sum(param ** 2)\n",
        "        return self.l2_reg * reg_loss\n",
        "\n",
        "vocabulary_size = len(vocabulary)\n",
        "embedding_dim = 50\n",
        "model = SkipGramModel(vocabulary_size, embedding_dim)"
      ],
      "metadata": {
        "id": "KWPmnpEbrkB8"
      },
      "execution_count": null,
      "outputs": []
    },
    {
      "cell_type": "code",
      "source": [
        "optimizer = torch.optim.Adam(model.parameters(), lr=0.001, weight_decay=1e-6)\n",
        "loss_function = nn.BCEWithLogitsLoss()"
      ],
      "metadata": {
        "id": "bgeb5NyQV9bg"
      },
      "execution_count": null,
      "outputs": []
    },
    {
      "cell_type": "code",
      "source": [
        "num_epochs = 11\n",
        "# losses = []\n",
        "\n",
        "# for epoch in range(num_epochs):\n",
        "#     total_loss = 0\n",
        "#     for data in dataset:\n",
        "#         target, context = data['target'], data['context']\n",
        "#         labels = data['label'].float()\n",
        "#         model.zero_grad()\n",
        "#         logits = model(target, context)\n",
        "#         reg_loss = model.get_regularization_loss()\n",
        "#         loss = loss_function(logits, labels) + reg_loss\n",
        "#         loss.backward()\n",
        "#         optimizer.step()\n",
        "#         total_loss += loss.item() * target.size(0)\n",
        "#     avg_loss = total_loss / len(dataset.dataset)\n",
        "#     print(f\"Epoch {epoch}: Loss = {avg_loss}\")\n",
        "#     losses.append(avg_loss)\n",
        "\n",
        "def train_and_evaluate(model, dataset, num_epochs):\n",
        "    optimizer = torch.optim.Adam(model.parameters(), lr=0.01, weight_decay=1e-6)\n",
        "    loss_function = nn.BCEWithLogitsLoss()\n",
        "    losses = []\n",
        "    for epoch in range(num_epochs):\n",
        "        total_loss = 0\n",
        "        for data in dataset:\n",
        "            target, context = data['target'], data['context']\n",
        "            labels = data['label'].float()\n",
        "            model.zero_grad()\n",
        "            logits = model(target, context)\n",
        "            reg_loss = model.get_regularization_loss()\n",
        "            loss = loss_function(logits, labels) + reg_loss\n",
        "            loss.backward()\n",
        "            optimizer.step()\n",
        "            total_loss += loss.item() * target.size(0)\n",
        "        avg_loss = total_loss / len(dataset.dataset)\n",
        "        print(f\"Epoch {epoch}: Loss = {avg_loss}\")\n",
        "        losses.append(avg_loss)\n",
        "\n",
        "    return losses[-1]  # Return the final average loss\n",
        "\n",
        "# Parameters\n",
        "num_runs = 10\n",
        "final_losses = []\n",
        "\n",
        "# Main loop for multiple runs\n",
        "for _ in range(num_runs):\n",
        "    model = SkipGramModel(vocabulary_size, embedding_dim)  # Reinitialize model\n",
        "    final_loss = train_and_evaluate(model, dataset, num_epochs)\n",
        "    final_losses.append(final_loss)\n",
        "\n",
        "# Calculating mean and standard error\n",
        "loss_mean = np.mean(final_losses)\n",
        "loss_std_error = np.std(final_losses, ddof=1) / np.sqrt(len(final_losses))\n",
        "\n",
        "# Displaying results in a table\n",
        "results_df = pd.DataFrame({\n",
        "    \"Run\": range(1, num_runs + 1),\n",
        "    \"Final Loss\": final_losses\n",
        "})\n",
        "results_df.loc['Mean'] = [np.nan, loss_mean]\n",
        "results_df.loc['Std. Error'] = [np.nan, loss_std_error]\n",
        "\n",
        "print(results_df)\n",
        "\n",
        "# Visualizing results in a figure\n",
        "plt.errorbar(range(1, num_runs + 1), final_losses, yerr=[loss_std_error]*num_runs, fmt='o')\n",
        "plt.title(\"Final Loss Across Runs\")\n",
        "plt.xlabel(\"Run\")\n",
        "plt.ylabel(\"Final Loss\")\n",
        "plt.xticks(range(1, num_runs + 1))  # Set x-ticks to match the number of runs\n",
        "plt.grid(True)\n",
        "plt.show()"
      ],
      "metadata": {
        "id": "Ku-6JOlrV-0S"
      },
      "execution_count": null,
      "outputs": []
    },
    {
      "cell_type": "code",
      "source": [
        "plt.plot(losses)\n",
        "plt.ylabel(\"Loss\")\n",
        "plt.xlabel(\"Epoch\")\n",
        "plt.title(\"Training Loss Over Epochs\")\n",
        "plt.show()"
      ],
      "metadata": {
        "id": "Lu51rQU6WBDA"
      },
      "execution_count": null,
      "outputs": []
    },
    {
      "cell_type": "code",
      "source": [
        "movie_embeddings = model.embed_item.weight.detach().numpy()\n",
        "print(\"Embeddings shape:\", movie_embeddings.shape)"
      ],
      "metadata": {
        "id": "wlCjJJO4Y3tf"
      },
      "execution_count": null,
      "outputs": []
    },
    {
      "cell_type": "code",
      "source": [
        "query_movies = [\n",
        "    \"Toy Story (1995)\",\n",
        "    \"GoldenEye (1995)\",\n",
        "    \"Four Rooms (1995)\",\n",
        "]"
      ],
      "metadata": {
        "id": "lShMdjevY4dQ"
      },
      "execution_count": null,
      "outputs": []
    },
    {
      "cell_type": "code",
      "source": [
        "query_embeddings = []\n",
        "\n",
        "for movie_title in query_movies:\n",
        "    movie_id = get_movie_id_by_title(movie_title)\n",
        "    token_id = vocabulary_lookup[movie_id]\n",
        "    movie_embedding = movie_embeddings[token_id]\n",
        "    query_embeddings.append(movie_embedding)\n",
        "\n",
        "query_embeddings = np.array(query_embeddings)"
      ],
      "metadata": {
        "id": "wO-utglCY4lj"
      },
      "execution_count": null,
      "outputs": []
    },
    {
      "cell_type": "code",
      "source": [
        "def normalize_embeddings_torch(embeddings):\n",
        "    norms = torch.norm(embeddings, p=2, dim=1, keepdim=True)\n",
        "    return embeddings / norms\n",
        "\n",
        "query_embeddings_tensor = torch.tensor(query_embeddings).float()\n",
        "movie_embeddings_tensor = torch.tensor(movie_embeddings).float()\n",
        "\n",
        "normalized_query_embeddings_torch = normalize_embeddings_torch(query_embeddings_tensor)\n",
        "normalized_movie_embeddings_torch = normalize_embeddings_torch(movie_embeddings_tensor)\n",
        "\n",
        "similarities_torch = torch.matmul(normalized_query_embeddings_torch, normalized_movie_embeddings_torch.T)\n",
        "\n",
        "k = 5\n",
        "_, indices_torch = torch.topk(similarities_torch, k=k)\n",
        "\n",
        "indices_list = indices_torch.numpy().tolist()"
      ],
      "metadata": {
        "id": "F0ht4a0owAmU"
      },
      "execution_count": null,
      "outputs": []
    },
    {
      "cell_type": "code",
      "source": [
        "top_k = 5\n",
        "\n",
        "for idx, title in enumerate(query_movies):\n",
        "    print(title)\n",
        "    print(\"\".rjust(len(title), \"-\"))\n",
        "    similar_tokens = indices_list[idx]\n",
        "    for token in similar_tokens:\n",
        "        if token == 0:\n",
        "          continue\n",
        "        similar_movieId = vocabulary[token]\n",
        "        similar_title = get_movie_title_by_id(similar_movieId)\n",
        "        print(f\"- {similar_title}\")\n",
        "    print()\n"
      ],
      "metadata": {
        "id": "U7WriOAkwrrV"
      },
      "execution_count": null,
      "outputs": []
    },
    {
      "cell_type": "code",
      "source": [
        "# !pip freeze > requirements. txt"
      ],
      "metadata": {
        "id": "Aj7i8q78bPgJ"
      },
      "execution_count": null,
      "outputs": []
    }
  ]
}