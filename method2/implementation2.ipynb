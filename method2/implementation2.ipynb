{
  "cells": [
    {
      "cell_type": "code",
      "execution_count": 51,
      "metadata": {
        "colab": {
          "base_uri": "https://localhost:8080/"
        },
        "id": "xxobgmj319Ro",
        "outputId": "e6b4050f-b120-4c80-f592-a0067faebbbd"
      },
      "outputs": [
        {
          "name": "stdout",
          "output_type": "stream",
          "text": [
            "Drive already mounted at /content/drive/; to attempt to forcibly remount, call drive.mount(\"/content/drive/\", force_remount=True).\n"
          ]
        }
      ],
      "source": [
        "import os\n",
        "from collections import defaultdict\n",
        "import math\n",
        "import networkx as nx\n",
        "import random\n",
        "from tqdm import tqdm\n",
        "from zipfile import ZipFile\n",
        "from urllib.request import urlretrieve\n",
        "import numpy as np\n",
        "import pandas as pd\n",
        "import torch\n",
        "import torch.nn as nn\n",
        "import torch.optim as optim\n",
        "import matplotlib.pyplot as plt\n",
        "import pandas as pd\n",
        "from google.colab import drive\n",
        "drive.mount('/content/drive/')"
      ]
    },
    {
      "cell_type": "code",
      "execution_count": 52,
      "metadata": {
        "colab": {
          "base_uri": "https://localhost:8080/"
        },
        "id": "kp4yOc4Q2b0E",
        "outputId": "091409df-8911-4c56-d6eb-e7df353e1f4a"
      },
      "outputs": [
        {
          "name": "stdout",
          "output_type": "stream",
          "text": [
            "Ratings data shape: (1682, 3)\n",
            "Ratings data shape: (100000, 4)\n"
          ]
        }
      ],
      "source": [
        "# loading the datasets and preprocessing\n",
        "# loading movies\n",
        "movies_path = '/content/drive/MyDrive/movielens/raw/ml-100k/u.item'\n",
        "movies = pd.read_csv(movies_path, sep='|', encoding='ISO-8859-1', header=None)\n",
        "genre_columns = ['unknown', 'Action', 'Adventure', 'Animation', 'Children', 'Comedy', 'Crime',\n",
        "                 'Documentary', 'Drama', 'Fantasy', 'Film-Noir', 'Horror', 'Musical', 'Mystery',\n",
        "                 'Romance', 'Sci-Fi', 'Thriller', 'War', 'Western']\n",
        "column_names = ['movie_id', 'title', 'release_date', 'video_release_date',\n",
        "                'IMDb_URL'] + genre_columns\n",
        "movies.columns = column_names\n",
        "def concatenate_genres(row):\n",
        "    genres = [genre for genre in genre_columns if row[genre] == 1]\n",
        "    return '|'.join(genres)\n",
        "movies['genres'] = movies.apply(concatenate_genres, axis=1)\n",
        "movies = movies[['movie_id', 'title', 'genres']]\n",
        "movies.loc[:, 'movie_id'] = movies.loc[:, 'movie_id'].apply(lambda x: f'movie_{x}')\n",
        "\n",
        "# loading ratings\n",
        "ratings_path = '/content/drive/MyDrive/movielens/raw/ml-100k/u.data'\n",
        "ratings = pd.read_csv(ratings_path, sep='\\t', names=['user_id', 'movie_id', 'rating', 'timestamp'])\n",
        "ratings[\"rating\"] = ratings[\"rating\"].apply(lambda x: float(x))\n",
        "ratings[\"movie_id\"] = ratings[\"movie_id\"].apply(lambda x: f\"movie_{x}\")\n",
        "ratings = ratings.sort_values(by=['user_id', 'movie_id'])\n",
        "\n",
        "\n",
        "print(\"Ratings data shape:\", movies.shape)\n",
        "print(\"Ratings data shape:\", ratings.shape)"
      ]
    },
    {
      "cell_type": "code",
      "execution_count": 53,
      "metadata": {
        "colab": {
          "base_uri": "https://localhost:8080/",
          "height": 206
        },
        "id": "FeX0-3cm5_2G",
        "outputId": "b800205b-f752-419c-9c44-9cf229f03ee3"
      },
      "outputs": [
        {
          "data": {
            "text/html": [
              "\n",
              "  <div id=\"df-4f3eb029-688d-4001-b685-c59a565a7f60\" class=\"colab-df-container\">\n",
              "    <div>\n",
              "<style scoped>\n",
              "    .dataframe tbody tr th:only-of-type {\n",
              "        vertical-align: middle;\n",
              "    }\n",
              "\n",
              "    .dataframe tbody tr th {\n",
              "        vertical-align: top;\n",
              "    }\n",
              "\n",
              "    .dataframe thead th {\n",
              "        text-align: right;\n",
              "    }\n",
              "</style>\n",
              "<table border=\"1\" class=\"dataframe\">\n",
              "  <thead>\n",
              "    <tr style=\"text-align: right;\">\n",
              "      <th></th>\n",
              "      <th>movie_id</th>\n",
              "      <th>title</th>\n",
              "      <th>genres</th>\n",
              "    </tr>\n",
              "  </thead>\n",
              "  <tbody>\n",
              "    <tr>\n",
              "      <th>0</th>\n",
              "      <td>movie_1</td>\n",
              "      <td>Toy Story (1995)</td>\n",
              "      <td>Animation|Children|Comedy</td>\n",
              "    </tr>\n",
              "    <tr>\n",
              "      <th>1</th>\n",
              "      <td>movie_2</td>\n",
              "      <td>GoldenEye (1995)</td>\n",
              "      <td>Action|Adventure|Thriller</td>\n",
              "    </tr>\n",
              "    <tr>\n",
              "      <th>2</th>\n",
              "      <td>movie_3</td>\n",
              "      <td>Four Rooms (1995)</td>\n",
              "      <td>Thriller</td>\n",
              "    </tr>\n",
              "    <tr>\n",
              "      <th>3</th>\n",
              "      <td>movie_4</td>\n",
              "      <td>Get Shorty (1995)</td>\n",
              "      <td>Action|Comedy|Drama</td>\n",
              "    </tr>\n",
              "    <tr>\n",
              "      <th>4</th>\n",
              "      <td>movie_5</td>\n",
              "      <td>Copycat (1995)</td>\n",
              "      <td>Crime|Drama|Thriller</td>\n",
              "    </tr>\n",
              "  </tbody>\n",
              "</table>\n",
              "</div>\n",
              "    <div class=\"colab-df-buttons\">\n",
              "\n",
              "  <div class=\"colab-df-container\">\n",
              "    <button class=\"colab-df-convert\" onclick=\"convertToInteractive('df-4f3eb029-688d-4001-b685-c59a565a7f60')\"\n",
              "            title=\"Convert this dataframe to an interactive table.\"\n",
              "            style=\"display:none;\">\n",
              "\n",
              "  <svg xmlns=\"http://www.w3.org/2000/svg\" height=\"24px\" viewBox=\"0 -960 960 960\">\n",
              "    <path d=\"M120-120v-720h720v720H120Zm60-500h600v-160H180v160Zm220 220h160v-160H400v160Zm0 220h160v-160H400v160ZM180-400h160v-160H180v160Zm440 0h160v-160H620v160ZM180-180h160v-160H180v160Zm440 0h160v-160H620v160Z\"/>\n",
              "  </svg>\n",
              "    </button>\n",
              "\n",
              "  <style>\n",
              "    .colab-df-container {\n",
              "      display:flex;\n",
              "      gap: 12px;\n",
              "    }\n",
              "\n",
              "    .colab-df-convert {\n",
              "      background-color: #E8F0FE;\n",
              "      border: none;\n",
              "      border-radius: 50%;\n",
              "      cursor: pointer;\n",
              "      display: none;\n",
              "      fill: #1967D2;\n",
              "      height: 32px;\n",
              "      padding: 0 0 0 0;\n",
              "      width: 32px;\n",
              "    }\n",
              "\n",
              "    .colab-df-convert:hover {\n",
              "      background-color: #E2EBFA;\n",
              "      box-shadow: 0px 1px 2px rgba(60, 64, 67, 0.3), 0px 1px 3px 1px rgba(60, 64, 67, 0.15);\n",
              "      fill: #174EA6;\n",
              "    }\n",
              "\n",
              "    .colab-df-buttons div {\n",
              "      margin-bottom: 4px;\n",
              "    }\n",
              "\n",
              "    [theme=dark] .colab-df-convert {\n",
              "      background-color: #3B4455;\n",
              "      fill: #D2E3FC;\n",
              "    }\n",
              "\n",
              "    [theme=dark] .colab-df-convert:hover {\n",
              "      background-color: #434B5C;\n",
              "      box-shadow: 0px 1px 3px 1px rgba(0, 0, 0, 0.15);\n",
              "      filter: drop-shadow(0px 1px 2px rgba(0, 0, 0, 0.3));\n",
              "      fill: #FFFFFF;\n",
              "    }\n",
              "  </style>\n",
              "\n",
              "    <script>\n",
              "      const buttonEl =\n",
              "        document.querySelector('#df-4f3eb029-688d-4001-b685-c59a565a7f60 button.colab-df-convert');\n",
              "      buttonEl.style.display =\n",
              "        google.colab.kernel.accessAllowed ? 'block' : 'none';\n",
              "\n",
              "      async function convertToInteractive(key) {\n",
              "        const element = document.querySelector('#df-4f3eb029-688d-4001-b685-c59a565a7f60');\n",
              "        const dataTable =\n",
              "          await google.colab.kernel.invokeFunction('convertToInteractive',\n",
              "                                                    [key], {});\n",
              "        if (!dataTable) return;\n",
              "\n",
              "        const docLinkHtml = 'Like what you see? Visit the ' +\n",
              "          '<a target=\"_blank\" href=https://colab.research.google.com/notebooks/data_table.ipynb>data table notebook</a>'\n",
              "          + ' to learn more about interactive tables.';\n",
              "        element.innerHTML = '';\n",
              "        dataTable['output_type'] = 'display_data';\n",
              "        await google.colab.output.renderOutput(dataTable, element);\n",
              "        const docLink = document.createElement('div');\n",
              "        docLink.innerHTML = docLinkHtml;\n",
              "        element.appendChild(docLink);\n",
              "      }\n",
              "    </script>\n",
              "  </div>\n",
              "\n",
              "\n",
              "<div id=\"df-a94bfcc9-ba06-4b9a-ba4f-33c01f26bc00\">\n",
              "  <button class=\"colab-df-quickchart\" onclick=\"quickchart('df-a94bfcc9-ba06-4b9a-ba4f-33c01f26bc00')\"\n",
              "            title=\"Suggest charts\"\n",
              "            style=\"display:none;\">\n",
              "\n",
              "<svg xmlns=\"http://www.w3.org/2000/svg\" height=\"24px\"viewBox=\"0 0 24 24\"\n",
              "     width=\"24px\">\n",
              "    <g>\n",
              "        <path d=\"M19 3H5c-1.1 0-2 .9-2 2v14c0 1.1.9 2 2 2h14c1.1 0 2-.9 2-2V5c0-1.1-.9-2-2-2zM9 17H7v-7h2v7zm4 0h-2V7h2v10zm4 0h-2v-4h2v4z\"/>\n",
              "    </g>\n",
              "</svg>\n",
              "  </button>\n",
              "\n",
              "<style>\n",
              "  .colab-df-quickchart {\n",
              "      --bg-color: #E8F0FE;\n",
              "      --fill-color: #1967D2;\n",
              "      --hover-bg-color: #E2EBFA;\n",
              "      --hover-fill-color: #174EA6;\n",
              "      --disabled-fill-color: #AAA;\n",
              "      --disabled-bg-color: #DDD;\n",
              "  }\n",
              "\n",
              "  [theme=dark] .colab-df-quickchart {\n",
              "      --bg-color: #3B4455;\n",
              "      --fill-color: #D2E3FC;\n",
              "      --hover-bg-color: #434B5C;\n",
              "      --hover-fill-color: #FFFFFF;\n",
              "      --disabled-bg-color: #3B4455;\n",
              "      --disabled-fill-color: #666;\n",
              "  }\n",
              "\n",
              "  .colab-df-quickchart {\n",
              "    background-color: var(--bg-color);\n",
              "    border: none;\n",
              "    border-radius: 50%;\n",
              "    cursor: pointer;\n",
              "    display: none;\n",
              "    fill: var(--fill-color);\n",
              "    height: 32px;\n",
              "    padding: 0;\n",
              "    width: 32px;\n",
              "  }\n",
              "\n",
              "  .colab-df-quickchart:hover {\n",
              "    background-color: var(--hover-bg-color);\n",
              "    box-shadow: 0 1px 2px rgba(60, 64, 67, 0.3), 0 1px 3px 1px rgba(60, 64, 67, 0.15);\n",
              "    fill: var(--button-hover-fill-color);\n",
              "  }\n",
              "\n",
              "  .colab-df-quickchart-complete:disabled,\n",
              "  .colab-df-quickchart-complete:disabled:hover {\n",
              "    background-color: var(--disabled-bg-color);\n",
              "    fill: var(--disabled-fill-color);\n",
              "    box-shadow: none;\n",
              "  }\n",
              "\n",
              "  .colab-df-spinner {\n",
              "    border: 2px solid var(--fill-color);\n",
              "    border-color: transparent;\n",
              "    border-bottom-color: var(--fill-color);\n",
              "    animation:\n",
              "      spin 1s steps(1) infinite;\n",
              "  }\n",
              "\n",
              "  @keyframes spin {\n",
              "    0% {\n",
              "      border-color: transparent;\n",
              "      border-bottom-color: var(--fill-color);\n",
              "      border-left-color: var(--fill-color);\n",
              "    }\n",
              "    20% {\n",
              "      border-color: transparent;\n",
              "      border-left-color: var(--fill-color);\n",
              "      border-top-color: var(--fill-color);\n",
              "    }\n",
              "    30% {\n",
              "      border-color: transparent;\n",
              "      border-left-color: var(--fill-color);\n",
              "      border-top-color: var(--fill-color);\n",
              "      border-right-color: var(--fill-color);\n",
              "    }\n",
              "    40% {\n",
              "      border-color: transparent;\n",
              "      border-right-color: var(--fill-color);\n",
              "      border-top-color: var(--fill-color);\n",
              "    }\n",
              "    60% {\n",
              "      border-color: transparent;\n",
              "      border-right-color: var(--fill-color);\n",
              "    }\n",
              "    80% {\n",
              "      border-color: transparent;\n",
              "      border-right-color: var(--fill-color);\n",
              "      border-bottom-color: var(--fill-color);\n",
              "    }\n",
              "    90% {\n",
              "      border-color: transparent;\n",
              "      border-bottom-color: var(--fill-color);\n",
              "    }\n",
              "  }\n",
              "</style>\n",
              "\n",
              "  <script>\n",
              "    async function quickchart(key) {\n",
              "      const quickchartButtonEl =\n",
              "        document.querySelector('#' + key + ' button');\n",
              "      quickchartButtonEl.disabled = true;  // To prevent multiple clicks.\n",
              "      quickchartButtonEl.classList.add('colab-df-spinner');\n",
              "      try {\n",
              "        const charts = await google.colab.kernel.invokeFunction(\n",
              "            'suggestCharts', [key], {});\n",
              "      } catch (error) {\n",
              "        console.error('Error during call to suggestCharts:', error);\n",
              "      }\n",
              "      quickchartButtonEl.classList.remove('colab-df-spinner');\n",
              "      quickchartButtonEl.classList.add('colab-df-quickchart-complete');\n",
              "    }\n",
              "    (() => {\n",
              "      let quickchartButtonEl =\n",
              "        document.querySelector('#df-a94bfcc9-ba06-4b9a-ba4f-33c01f26bc00 button');\n",
              "      quickchartButtonEl.style.display =\n",
              "        google.colab.kernel.accessAllowed ? 'block' : 'none';\n",
              "    })();\n",
              "  </script>\n",
              "</div>\n",
              "    </div>\n",
              "  </div>\n"
            ],
            "text/plain": [
              "  movie_id              title                     genres\n",
              "0  movie_1   Toy Story (1995)  Animation|Children|Comedy\n",
              "1  movie_2   GoldenEye (1995)  Action|Adventure|Thriller\n",
              "2  movie_3  Four Rooms (1995)                   Thriller\n",
              "3  movie_4  Get Shorty (1995)        Action|Comedy|Drama\n",
              "4  movie_5     Copycat (1995)       Crime|Drama|Thriller"
            ]
          },
          "execution_count": 53,
          "metadata": {},
          "output_type": "execute_result"
        }
      ],
      "source": [
        "movies.head()"
      ]
    },
    {
      "cell_type": "code",
      "execution_count": 54,
      "metadata": {
        "colab": {
          "base_uri": "https://localhost:8080/",
          "height": 206
        },
        "id": "zai8wSoF6AmU",
        "outputId": "dd42310f-6af6-4ca3-c63b-19fac3c352d5"
      },
      "outputs": [
        {
          "data": {
            "text/html": [
              "\n",
              "  <div id=\"df-ecaf5b76-d3fd-41b9-9f89-071276c0a050\" class=\"colab-df-container\">\n",
              "    <div>\n",
              "<style scoped>\n",
              "    .dataframe tbody tr th:only-of-type {\n",
              "        vertical-align: middle;\n",
              "    }\n",
              "\n",
              "    .dataframe tbody tr th {\n",
              "        vertical-align: top;\n",
              "    }\n",
              "\n",
              "    .dataframe thead th {\n",
              "        text-align: right;\n",
              "    }\n",
              "</style>\n",
              "<table border=\"1\" class=\"dataframe\">\n",
              "  <thead>\n",
              "    <tr style=\"text-align: right;\">\n",
              "      <th></th>\n",
              "      <th>user_id</th>\n",
              "      <th>movie_id</th>\n",
              "      <th>rating</th>\n",
              "      <th>timestamp</th>\n",
              "    </tr>\n",
              "  </thead>\n",
              "  <tbody>\n",
              "    <tr>\n",
              "      <th>32236</th>\n",
              "      <td>1</td>\n",
              "      <td>movie_1</td>\n",
              "      <td>5.0</td>\n",
              "      <td>874965758</td>\n",
              "    </tr>\n",
              "    <tr>\n",
              "      <th>13542</th>\n",
              "      <td>1</td>\n",
              "      <td>movie_10</td>\n",
              "      <td>3.0</td>\n",
              "      <td>875693118</td>\n",
              "    </tr>\n",
              "    <tr>\n",
              "      <th>17672</th>\n",
              "      <td>1</td>\n",
              "      <td>movie_100</td>\n",
              "      <td>5.0</td>\n",
              "      <td>878543541</td>\n",
              "    </tr>\n",
              "    <tr>\n",
              "      <th>59055</th>\n",
              "      <td>1</td>\n",
              "      <td>movie_101</td>\n",
              "      <td>2.0</td>\n",
              "      <td>878542845</td>\n",
              "    </tr>\n",
              "    <tr>\n",
              "      <th>19699</th>\n",
              "      <td>1</td>\n",
              "      <td>movie_102</td>\n",
              "      <td>2.0</td>\n",
              "      <td>889751736</td>\n",
              "    </tr>\n",
              "  </tbody>\n",
              "</table>\n",
              "</div>\n",
              "    <div class=\"colab-df-buttons\">\n",
              "\n",
              "  <div class=\"colab-df-container\">\n",
              "    <button class=\"colab-df-convert\" onclick=\"convertToInteractive('df-ecaf5b76-d3fd-41b9-9f89-071276c0a050')\"\n",
              "            title=\"Convert this dataframe to an interactive table.\"\n",
              "            style=\"display:none;\">\n",
              "\n",
              "  <svg xmlns=\"http://www.w3.org/2000/svg\" height=\"24px\" viewBox=\"0 -960 960 960\">\n",
              "    <path d=\"M120-120v-720h720v720H120Zm60-500h600v-160H180v160Zm220 220h160v-160H400v160Zm0 220h160v-160H400v160ZM180-400h160v-160H180v160Zm440 0h160v-160H620v160ZM180-180h160v-160H180v160Zm440 0h160v-160H620v160Z\"/>\n",
              "  </svg>\n",
              "    </button>\n",
              "\n",
              "  <style>\n",
              "    .colab-df-container {\n",
              "      display:flex;\n",
              "      gap: 12px;\n",
              "    }\n",
              "\n",
              "    .colab-df-convert {\n",
              "      background-color: #E8F0FE;\n",
              "      border: none;\n",
              "      border-radius: 50%;\n",
              "      cursor: pointer;\n",
              "      display: none;\n",
              "      fill: #1967D2;\n",
              "      height: 32px;\n",
              "      padding: 0 0 0 0;\n",
              "      width: 32px;\n",
              "    }\n",
              "\n",
              "    .colab-df-convert:hover {\n",
              "      background-color: #E2EBFA;\n",
              "      box-shadow: 0px 1px 2px rgba(60, 64, 67, 0.3), 0px 1px 3px 1px rgba(60, 64, 67, 0.15);\n",
              "      fill: #174EA6;\n",
              "    }\n",
              "\n",
              "    .colab-df-buttons div {\n",
              "      margin-bottom: 4px;\n",
              "    }\n",
              "\n",
              "    [theme=dark] .colab-df-convert {\n",
              "      background-color: #3B4455;\n",
              "      fill: #D2E3FC;\n",
              "    }\n",
              "\n",
              "    [theme=dark] .colab-df-convert:hover {\n",
              "      background-color: #434B5C;\n",
              "      box-shadow: 0px 1px 3px 1px rgba(0, 0, 0, 0.15);\n",
              "      filter: drop-shadow(0px 1px 2px rgba(0, 0, 0, 0.3));\n",
              "      fill: #FFFFFF;\n",
              "    }\n",
              "  </style>\n",
              "\n",
              "    <script>\n",
              "      const buttonEl =\n",
              "        document.querySelector('#df-ecaf5b76-d3fd-41b9-9f89-071276c0a050 button.colab-df-convert');\n",
              "      buttonEl.style.display =\n",
              "        google.colab.kernel.accessAllowed ? 'block' : 'none';\n",
              "\n",
              "      async function convertToInteractive(key) {\n",
              "        const element = document.querySelector('#df-ecaf5b76-d3fd-41b9-9f89-071276c0a050');\n",
              "        const dataTable =\n",
              "          await google.colab.kernel.invokeFunction('convertToInteractive',\n",
              "                                                    [key], {});\n",
              "        if (!dataTable) return;\n",
              "\n",
              "        const docLinkHtml = 'Like what you see? Visit the ' +\n",
              "          '<a target=\"_blank\" href=https://colab.research.google.com/notebooks/data_table.ipynb>data table notebook</a>'\n",
              "          + ' to learn more about interactive tables.';\n",
              "        element.innerHTML = '';\n",
              "        dataTable['output_type'] = 'display_data';\n",
              "        await google.colab.output.renderOutput(dataTable, element);\n",
              "        const docLink = document.createElement('div');\n",
              "        docLink.innerHTML = docLinkHtml;\n",
              "        element.appendChild(docLink);\n",
              "      }\n",
              "    </script>\n",
              "  </div>\n",
              "\n",
              "\n",
              "<div id=\"df-6f834730-2314-447f-8aa1-9f3bb5bbf54e\">\n",
              "  <button class=\"colab-df-quickchart\" onclick=\"quickchart('df-6f834730-2314-447f-8aa1-9f3bb5bbf54e')\"\n",
              "            title=\"Suggest charts\"\n",
              "            style=\"display:none;\">\n",
              "\n",
              "<svg xmlns=\"http://www.w3.org/2000/svg\" height=\"24px\"viewBox=\"0 0 24 24\"\n",
              "     width=\"24px\">\n",
              "    <g>\n",
              "        <path d=\"M19 3H5c-1.1 0-2 .9-2 2v14c0 1.1.9 2 2 2h14c1.1 0 2-.9 2-2V5c0-1.1-.9-2-2-2zM9 17H7v-7h2v7zm4 0h-2V7h2v10zm4 0h-2v-4h2v4z\"/>\n",
              "    </g>\n",
              "</svg>\n",
              "  </button>\n",
              "\n",
              "<style>\n",
              "  .colab-df-quickchart {\n",
              "      --bg-color: #E8F0FE;\n",
              "      --fill-color: #1967D2;\n",
              "      --hover-bg-color: #E2EBFA;\n",
              "      --hover-fill-color: #174EA6;\n",
              "      --disabled-fill-color: #AAA;\n",
              "      --disabled-bg-color: #DDD;\n",
              "  }\n",
              "\n",
              "  [theme=dark] .colab-df-quickchart {\n",
              "      --bg-color: #3B4455;\n",
              "      --fill-color: #D2E3FC;\n",
              "      --hover-bg-color: #434B5C;\n",
              "      --hover-fill-color: #FFFFFF;\n",
              "      --disabled-bg-color: #3B4455;\n",
              "      --disabled-fill-color: #666;\n",
              "  }\n",
              "\n",
              "  .colab-df-quickchart {\n",
              "    background-color: var(--bg-color);\n",
              "    border: none;\n",
              "    border-radius: 50%;\n",
              "    cursor: pointer;\n",
              "    display: none;\n",
              "    fill: var(--fill-color);\n",
              "    height: 32px;\n",
              "    padding: 0;\n",
              "    width: 32px;\n",
              "  }\n",
              "\n",
              "  .colab-df-quickchart:hover {\n",
              "    background-color: var(--hover-bg-color);\n",
              "    box-shadow: 0 1px 2px rgba(60, 64, 67, 0.3), 0 1px 3px 1px rgba(60, 64, 67, 0.15);\n",
              "    fill: var(--button-hover-fill-color);\n",
              "  }\n",
              "\n",
              "  .colab-df-quickchart-complete:disabled,\n",
              "  .colab-df-quickchart-complete:disabled:hover {\n",
              "    background-color: var(--disabled-bg-color);\n",
              "    fill: var(--disabled-fill-color);\n",
              "    box-shadow: none;\n",
              "  }\n",
              "\n",
              "  .colab-df-spinner {\n",
              "    border: 2px solid var(--fill-color);\n",
              "    border-color: transparent;\n",
              "    border-bottom-color: var(--fill-color);\n",
              "    animation:\n",
              "      spin 1s steps(1) infinite;\n",
              "  }\n",
              "\n",
              "  @keyframes spin {\n",
              "    0% {\n",
              "      border-color: transparent;\n",
              "      border-bottom-color: var(--fill-color);\n",
              "      border-left-color: var(--fill-color);\n",
              "    }\n",
              "    20% {\n",
              "      border-color: transparent;\n",
              "      border-left-color: var(--fill-color);\n",
              "      border-top-color: var(--fill-color);\n",
              "    }\n",
              "    30% {\n",
              "      border-color: transparent;\n",
              "      border-left-color: var(--fill-color);\n",
              "      border-top-color: var(--fill-color);\n",
              "      border-right-color: var(--fill-color);\n",
              "    }\n",
              "    40% {\n",
              "      border-color: transparent;\n",
              "      border-right-color: var(--fill-color);\n",
              "      border-top-color: var(--fill-color);\n",
              "    }\n",
              "    60% {\n",
              "      border-color: transparent;\n",
              "      border-right-color: var(--fill-color);\n",
              "    }\n",
              "    80% {\n",
              "      border-color: transparent;\n",
              "      border-right-color: var(--fill-color);\n",
              "      border-bottom-color: var(--fill-color);\n",
              "    }\n",
              "    90% {\n",
              "      border-color: transparent;\n",
              "      border-bottom-color: var(--fill-color);\n",
              "    }\n",
              "  }\n",
              "</style>\n",
              "\n",
              "  <script>\n",
              "    async function quickchart(key) {\n",
              "      const quickchartButtonEl =\n",
              "        document.querySelector('#' + key + ' button');\n",
              "      quickchartButtonEl.disabled = true;  // To prevent multiple clicks.\n",
              "      quickchartButtonEl.classList.add('colab-df-spinner');\n",
              "      try {\n",
              "        const charts = await google.colab.kernel.invokeFunction(\n",
              "            'suggestCharts', [key], {});\n",
              "      } catch (error) {\n",
              "        console.error('Error during call to suggestCharts:', error);\n",
              "      }\n",
              "      quickchartButtonEl.classList.remove('colab-df-spinner');\n",
              "      quickchartButtonEl.classList.add('colab-df-quickchart-complete');\n",
              "    }\n",
              "    (() => {\n",
              "      let quickchartButtonEl =\n",
              "        document.querySelector('#df-6f834730-2314-447f-8aa1-9f3bb5bbf54e button');\n",
              "      quickchartButtonEl.style.display =\n",
              "        google.colab.kernel.accessAllowed ? 'block' : 'none';\n",
              "    })();\n",
              "  </script>\n",
              "</div>\n",
              "    </div>\n",
              "  </div>\n"
            ],
            "text/plain": [
              "       user_id   movie_id  rating  timestamp\n",
              "32236        1    movie_1     5.0  874965758\n",
              "13542        1   movie_10     3.0  875693118\n",
              "17672        1  movie_100     5.0  878543541\n",
              "59055        1  movie_101     2.0  878542845\n",
              "19699        1  movie_102     2.0  889751736"
            ]
          },
          "execution_count": 54,
          "metadata": {},
          "output_type": "execute_result"
        }
      ],
      "source": [
        "ratings.head()"
      ]
    },
    {
      "cell_type": "code",
      "execution_count": 55,
      "metadata": {
        "id": "lSoanafu3ft4"
      },
      "outputs": [],
      "source": [
        "def get_movie_title_by_id(movieId):\n",
        "    return list(movies[movies.movie_id == movieId].title)[0]\n",
        "\n",
        "def get_movie_id_by_title(title):\n",
        "    return list(movies[movies.title == title].movie_id)[0]"
      ]
    },
    {
      "cell_type": "code",
      "execution_count": 56,
      "metadata": {
        "colab": {
          "base_uri": "https://localhost:8080/"
        },
        "id": "AU-d4COVcDz2",
        "outputId": "44ed9136-129c-4432-82d4-65afe13980d2"
      },
      "outputs": [
        {
          "name": "stdout",
          "output_type": "stream",
          "text": [
            "Toy Story (1995)\n",
            "movie_1\n"
          ]
        }
      ],
      "source": [
        "# checking utility functions\n",
        "print(get_movie_title_by_id('movie_1'))\n",
        "print(get_movie_id_by_title('Toy Story (1995)'))"
      ]
    },
    {
      "cell_type": "code",
      "execution_count": 57,
      "metadata": {
        "colab": {
          "base_uri": "https://localhost:8080/"
        },
        "id": "AiW9Rzl-3nO0",
        "outputId": "f4878d1f-5c32-4b59-9cf9-6f079b34e7a7"
      },
      "outputs": [
        {
          "name": "stderr",
          "output_type": "stream",
          "text": [
            "Computing movie rating frequencies: 100%|██████████| 928/928 [00:00<00:00, 1583.63it/s]\n"
          ]
        }
      ],
      "source": [
        "min_rating = 5\n",
        "pair_frequency = defaultdict(int)\n",
        "item_frequency = defaultdict(int)\n",
        "\n",
        "rated_movies = ratings[ratings.rating >= min_rating]\n",
        "movies_grouped_by_users = list(rated_movies.groupby(\"user_id\"))\n",
        "for group in tqdm(\n",
        "    movies_grouped_by_users,\n",
        "    position=0,\n",
        "    leave=True,\n",
        "    desc=\"Computing movie rating frequencies\",\n",
        "):\n",
        "    current_movies = list(group[1][\"movie_id\"])\n",
        "\n",
        "    for i in range(len(current_movies)):\n",
        "        item_frequency[current_movies[i]] += 1\n",
        "        for j in range(i + 1, len(current_movies)):\n",
        "            x = min(current_movies[i], current_movies[j])\n",
        "            y = max(current_movies[i], current_movies[j])\n",
        "            pair_frequency[(x, y)] += 1"
      ]
    },
    {
      "cell_type": "code",
      "execution_count": 58,
      "metadata": {
        "colab": {
          "base_uri": "https://localhost:8080/"
        },
        "id": "V__qVCn-9nd3",
        "outputId": "e24f07ba-65e6-43ea-ac96-a12ef5790f61"
      },
      "outputs": [
        {
          "name": "stdout",
          "output_type": "stream",
          "text": [
            "Average number of high-rated movies per user: 22.845905172413794\n"
          ]
        }
      ],
      "source": [
        "user_movie_counts = [len(group[1][\"movie_id\"]) for group in movies_grouped_by_users]\n",
        "print(\"Average number of high-rated movies per user:\", sum(user_movie_counts) / len(user_movie_counts))"
      ]
    },
    {
      "cell_type": "code",
      "execution_count": 59,
      "metadata": {
        "colab": {
          "base_uri": "https://localhost:8080/"
        },
        "id": "_6wYm-Sj4FOE",
        "outputId": "94385dc5-9bd2-4e99-e85d-d24a620e2dd7"
      },
      "outputs": [
        {
          "name": "stderr",
          "output_type": "stream",
          "text": [
            "Creating the movie graph: 100%|██████████| 174005/174005 [00:00<00:00, 646655.14it/s]\n"
          ]
        }
      ],
      "source": [
        "min_weight = 30\n",
        "D = math.log(sum(item_frequency.values()))\n",
        "movies_graph = nx.Graph()\n",
        "for pair in tqdm(\n",
        "    pair_frequency, position=0, leave=True, desc=\"Creating the movie graph\"\n",
        "):\n",
        "    x, y = pair\n",
        "    xy_frequency = pair_frequency[pair]\n",
        "    x_frequency = item_frequency[x]\n",
        "    y_frequency = item_frequency[y]\n",
        "    pmi = math.log(xy_frequency) - math.log(x_frequency) - math.log(y_frequency) + D\n",
        "    weight = pmi * xy_frequency\n",
        "    if weight >= min_weight:\n",
        "        movies_graph.add_edge(x, y, weight=weight)"
      ]
    },
    {
      "cell_type": "code",
      "execution_count": 60,
      "metadata": {
        "colab": {
          "base_uri": "https://localhost:8080/",
          "height": 825
        },
        "id": "is7w_RJg-eDB",
        "outputId": "78ac19be-2dd5-4b94-ea31-9f2e4fe8af6c"
      },
      "outputs": [
        {
          "data": {
            "image/png": "[encoded data removed]",
            "text/plain": [
              "<Figure size 1000x1000 with 1 Axes>"
            ]
          },
          "metadata": {},
          "output_type": "display_data"
        },
        {
          "data": {
            "text/plain": [
              "<Figure size 640x480 with 0 Axes>"
            ]
          },
          "metadata": {},
          "output_type": "display_data"
        }
      ],
      "source": [
        "plt.figure(figsize=(10, 10))\n",
        "pos = nx.spring_layout(movies_graph)\n",
        "nx.draw_networkx_nodes(movies_graph, pos, node_size=100)\n",
        "nx.draw_networkx_edges(movies_graph, pos, width=1.0, alpha=0.5)\n",
        "nx.draw_networkx_labels(movies_graph, pos, font_size=5, font_family=\"sans-serif\")\n",
        "plt.axis(\"off\")\n",
        "plt.show()\n",
        "plt.savefig('ml-100k-graph.png')"
      ]
    },
    {
      "cell_type": "code",
      "execution_count": 61,
      "metadata": {
        "colab": {
          "base_uri": "https://localhost:8080/"
        },
        "id": "IWhjeynU4Ise",
        "outputId": "12a34b90-5b4f-4824-fb47-d9442309dfe4"
      },
      "outputs": [
        {
          "name": "stdout",
          "output_type": "stream",
          "text": [
            "Total number of graph nodes: 516\n",
            "Total number of graph edges: 15370\n"
          ]
        }
      ],
      "source": [
        "print(\"Total number of graph nodes:\", movies_graph.number_of_nodes())\n",
        "print(\"Total number of graph edges:\", movies_graph.number_of_edges())"
      ]
    },
    {
      "cell_type": "code",
      "execution_count": 62,
      "metadata": {
        "colab": {
          "base_uri": "https://localhost:8080/"
        },
        "id": "nAutngTc4PUc",
        "outputId": "dae63353-0d10-44d1-b5ca-c92b9dfdadf2"
      },
      "outputs": [
        {
          "name": "stdout",
          "output_type": "stream",
          "text": [
            "Average node degree: 59.57\n"
          ]
        }
      ],
      "source": [
        "degrees = []\n",
        "for node in movies_graph.nodes:\n",
        "    degrees.append(movies_graph.degree[node])\n",
        "\n",
        "print(\"Average node degree:\", round(sum(degrees) / len(degrees), 2))"
      ]
    },
    {
      "cell_type": "code",
      "execution_count": 63,
      "metadata": {
        "id": "_eHKcxZO4YAt"
      },
      "outputs": [],
      "source": [
        "vocabulary = [\"NA\"] + list(movies_graph.nodes)\n",
        "vocabulary_lookup = {token: idx for idx, token in enumerate(vocabulary)}"
      ]
    },
    {
      "cell_type": "code",
      "execution_count": 64,
      "metadata": {
        "id": "6OQAs8TI40wC"
      },
      "outputs": [],
      "source": [
        "def next_step(graph, previous, current, p, q):\n",
        "    neighbors = list(graph.neighbors(current))\n",
        "\n",
        "    weights = []\n",
        "    for neighbor in neighbors:\n",
        "        if neighbor == previous:\n",
        "            weights.append(graph[current][neighbor][\"weight\"] / p)\n",
        "        elif graph.has_edge(neighbor, previous):\n",
        "            weights.append(graph[current][neighbor][\"weight\"])\n",
        "        else:\n",
        "            weights.append(graph[current][neighbor][\"weight\"] / q)\n",
        "    weight_sum = sum(weights)\n",
        "    probabilities = [weight / weight_sum for weight in weights]\n",
        "    next = np.random.choice(neighbors, size=1, p=probabilities)[0]\n",
        "    return next\n",
        "\n",
        "def random_walk(graph, num_walks, num_steps, p, q):\n",
        "    walks = []\n",
        "    nodes = list(graph.nodes())\n",
        "    for walk_iteration in range(num_walks):\n",
        "        random.shuffle(nodes)\n",
        "        for node in tqdm(\n",
        "            nodes,\n",
        "            position=0,\n",
        "            leave=True,\n",
        "            desc=f\"Random walks iteration {walk_iteration + 1} of {num_walks}\",\n",
        "        ):\n",
        "            walk = [node]\n",
        "            while len(walk) < num_steps:\n",
        "                current = walk[-1]\n",
        "                previous = walk[-2] if len(walk) > 1 else None\n",
        "                next = next_step(graph, previous, current, p, q)\n",
        "                walk.append(next)\n",
        "            walk = [vocabulary_lookup[token] for token in walk]\n",
        "            walks.append(walk)\n",
        "    return walks"
      ]
    },
    {
      "cell_type": "code",
      "execution_count": 65,
      "metadata": {
        "colab": {
          "base_uri": "https://localhost:8080/"
        },
        "id": "ZYl6aqse486a",
        "outputId": "0945953a-b246-4972-d337-7adb24ced9c0"
      },
      "outputs": [
        {
          "name": "stderr",
          "output_type": "stream",
          "text": [
            "Random walks iteration 1 of 10: 100%|██████████| 516/516 [00:00<00:00, 1003.46it/s]\n",
            "Random walks iteration 2 of 10: 100%|██████████| 516/516 [00:00<00:00, 911.82it/s]\n",
            "Random walks iteration 3 of 10: 100%|██████████| 516/516 [00:00<00:00, 949.10it/s]\n",
            "Random walks iteration 4 of 10: 100%|██████████| 516/516 [00:00<00:00, 899.90it/s]\n",
            "Random walks iteration 5 of 10: 100%|██████████| 516/516 [00:00<00:00, 874.56it/s]\n",
            "Random walks iteration 6 of 10: 100%|██████████| 516/516 [00:00<00:00, 973.89it/s] \n",
            "Random walks iteration 7 of 10: 100%|██████████| 516/516 [00:00<00:00, 971.48it/s] \n",
            "Random walks iteration 8 of 10: 100%|██████████| 516/516 [00:00<00:00, 991.13it/s] \n",
            "Random walks iteration 9 of 10: 100%|██████████| 516/516 [00:00<00:00, 1022.42it/s]\n",
            "Random walks iteration 10 of 10: 100%|██████████| 516/516 [00:00<00:00, 1084.89it/s]"
          ]
        },
        {
          "name": "stdout",
          "output_type": "stream",
          "text": [
            "\n",
            "Number of walks generated: 5160\n"
          ]
        },
        {
          "name": "stderr",
          "output_type": "stream",
          "text": [
            "\n"
          ]
        }
      ],
      "source": [
        "# walk return param\n",
        "p = 1\n",
        "# walk in-out param\n",
        "q = 1\n",
        "num_walks = 10\n",
        "num_steps = 5\n",
        "walks = random_walk(movies_graph, num_walks, num_steps, p, q)\n",
        "print(\"\\nNumber of walks generated:\", len(walks))"
      ]
    },
    {
      "cell_type": "code",
      "execution_count": 66,
      "metadata": {
        "id": "kqpnc1N65-Yw"
      },
      "outputs": [],
      "source": [
        "def skipgram(\n",
        "    sequence,\n",
        "    vocabulary_size,\n",
        "    window_size=4,\n",
        "    negative_samples=1.0,\n",
        "    shuffle=True,\n",
        "    categorical=False,\n",
        "    sampling_table=None,\n",
        "    seed=None,\n",
        "):\n",
        "    couples = []\n",
        "    labels = []\n",
        "    for i, wi in enumerate(sequence):\n",
        "        if not wi:\n",
        "            continue\n",
        "        if sampling_table is not None:\n",
        "            if sampling_table[wi] < random.random():\n",
        "                continue\n",
        "\n",
        "        window_start = max(0, i - window_size)\n",
        "        window_end = min(len(sequence), i + window_size + 1)\n",
        "        for j in range(window_start, window_end):\n",
        "            if j != i:\n",
        "                wj = sequence[j]\n",
        "                if not wj:\n",
        "                    continue\n",
        "                couples.append([wi, wj])\n",
        "                if categorical:\n",
        "                    labels.append([0, 1])\n",
        "                else:\n",
        "                    labels.append(1)\n",
        "    if negative_samples > 0:\n",
        "        num_negative_samples = int(len(labels) * negative_samples)\n",
        "        words = [c[0] for c in couples]\n",
        "        random.shuffle(words)\n",
        "\n",
        "        couples += [\n",
        "            [words[i % len(words)], random.randint(1, vocabulary_size - 1)]\n",
        "            for i in range(num_negative_samples)\n",
        "        ]\n",
        "        if categorical:\n",
        "            labels += [[1, 0]] * num_negative_samples\n",
        "        else:\n",
        "            labels += [0] * num_negative_samples\n",
        "    if shuffle:\n",
        "        if seed is None:\n",
        "            seed = random.randint(0, 10e6)\n",
        "        random.seed(seed)\n",
        "        random.shuffle(couples)\n",
        "        random.seed(seed)\n",
        "        random.shuffle(labels)\n",
        "\n",
        "    return couples, labels"
      ]
    },
    {
      "cell_type": "code",
      "execution_count": 67,
      "metadata": {
        "colab": {
          "base_uri": "https://localhost:8080/"
        },
        "id": "iVDWumXP5N5I",
        "outputId": "9165aa69-bbce-408e-df6a-23d8d06b95a0"
      },
      "outputs": [
        {
          "name": "stderr",
          "output_type": "stream",
          "text": [
            "Generating postive and negative examples: 100%|██████████| 5160/5160 [00:01<00:00, 3432.45it/s]\n"
          ]
        },
        {
          "name": "stdout",
          "output_type": "stream",
          "text": [
            "Pair: [172, 34], Label: 1 (Positive)\n",
            "Pair: [172, 22], Label: 0 (Negative)\n",
            "Pair: [52, 80], Label: 0 (Negative)\n",
            "Pair: [34, 18], Label: 1 (Positive)\n",
            "Pair: [34, 213], Label: 0 (Negative)\n",
            "Pair: [34, 172], Label: 1 (Positive)\n",
            "Pair: [102, 172], Label: 1 (Positive)\n",
            "Pair: [34, 59], Label: 0 (Negative)\n",
            "Pair: [34, 466], Label: 0 (Negative)\n",
            "Pair: [18, 358], Label: 0 (Negative)\n"
          ]
        }
      ],
      "source": [
        "def generate_examples(sequences, window_size, num_negative_samples, vocabulary_size):\n",
        "    example_weights = defaultdict(int)\n",
        "    sample_size = 10\n",
        "    sample_pairs_labels = []\n",
        "    for sequence in tqdm(\n",
        "        sequences,\n",
        "        position=0,\n",
        "        leave=True,\n",
        "        desc=f\"Generating postive and negative examples\",\n",
        "    ):\n",
        "        pairs, labels = skipgram(\n",
        "            sequence,\n",
        "            vocabulary_size=vocabulary_size,\n",
        "            window_size=window_size,\n",
        "            negative_samples=num_negative_samples)\n",
        "        if len(sample_pairs_labels) < sample_size:\n",
        "            sample_indices = random.sample(range(len(pairs)), min(sample_size - len(sample_pairs_labels), len(pairs)))\n",
        "            sample_pairs_labels.extend([(pairs[i], labels[i]) for i in sample_indices])\n",
        "        for idx in range(len(pairs)):\n",
        "            pair = pairs[idx]\n",
        "            label = labels[idx]\n",
        "            target, context = min(pair[0], pair[1]), max(pair[0], pair[1])\n",
        "            if target == context:\n",
        "                continue\n",
        "            entry = (target, context, label)\n",
        "            example_weights[entry] += 1\n",
        "    for pair, label in sample_pairs_labels:\n",
        "        label_type = \"Positive\" if label == 1 else \"Negative\"\n",
        "        print(f\"Pair: {pair}, Label: {label} ({label_type})\")\n",
        "    targets, contexts, labels, weights = [], [], [], []\n",
        "    for entry in example_weights:\n",
        "        weight = example_weights[entry]\n",
        "        target, context, label = entry\n",
        "        targets.append(target)\n",
        "        contexts.append(context)\n",
        "        labels.append(label)\n",
        "        weights.append(weight)\n",
        "    return np.array(targets), np.array(contexts), np.array(labels), np.array(weights)\n",
        "num_negative_samples = 4\n",
        "targets, contexts, labels, weights = generate_examples(\n",
        "    sequences=walks,\n",
        "    window_size=num_steps,\n",
        "    num_negative_samples=num_negative_samples,\n",
        "    vocabulary_size=len(vocabulary)\n",
        ")"
      ]
    },
    {
      "cell_type": "code",
      "execution_count": 68,
      "metadata": {
        "colab": {
          "base_uri": "https://localhost:8080/"
        },
        "id": "4gSzHw6bM7Nb",
        "outputId": "e582bfc7-c2df-4a35-e2f2-560e0b912fd9"
      },
      "outputs": [
        {
          "name": "stdout",
          "output_type": "stream",
          "text": [
            "Targets shape: (136181,)\n",
            "Contexts shape: (136181,)\n",
            "Labels shape: (136181,)\n",
            "Weights shape: (136181,)\n",
            "target:  White Balloon, The (1995)\n",
            "context:  Aristocats, The (1970)\n",
            "Positive examples: 25278, Negative examples: 110903\n",
            "Pair: (132, 268), Weight: 3\n",
            "Pair: (244, 509), Weight: 1\n",
            "Pair: (192, 319), Weight: 5\n",
            "Pair: (285, 510), Weight: 2\n",
            "Pair: (155, 437), Weight: 5\n",
            "Pair: (394, 453), Weight: 1\n",
            "Pair: (53, 160), Weight: 7\n",
            "Pair: (58, 504), Weight: 2\n",
            "Pair: (144, 278), Weight: 3\n",
            "Pair: (185, 279), Weight: 9\n",
            "Pair: (245, 330), Weight: 2\n"
          ]
        }
      ],
      "source": [
        "print(f\"Targets shape: {targets.shape}\")\n",
        "print(f\"Contexts shape: {contexts.shape}\")\n",
        "print(f\"Labels shape: {labels.shape}\")\n",
        "print(f\"Weights shape: {weights.shape}\")\n",
        "assert len(targets) == len(contexts) == len(labels), \"Lengths of targets, contexts, and labels should be equal\"\n",
        "for i in range(10):\n",
        "    if labels[i] == 1:\n",
        "      print(\"target: \", get_movie_title_by_id(f'movie_{targets[i]}'))\n",
        "      print(\"context: \", get_movie_title_by_id(f'movie_{contexts[i]}'))\n",
        "positive_examples = sum(labels)\n",
        "negative_examples = len(labels) - positive_examples\n",
        "print(f\"Positive examples: {positive_examples}, Negative examples: {negative_examples}\")\n",
        "unique_pairs = set(zip(targets, contexts))\n",
        "for i, pair in enumerate(unique_pairs):\n",
        "    if i > 10: break\n",
        "    print(f\"Pair: {pair}, Weight: {weights[(targets == pair[0]) & (contexts == pair[1])].sum()}\")"
      ]
    },
    {
      "cell_type": "code",
      "execution_count": 69,
      "metadata": {
        "id": "XeX-WdkTNWQK"
      },
      "outputs": [],
      "source": [
        "from torch.utils.data import Dataset, DataLoader\n",
        "\n",
        "batch_size = 1024\n",
        "\n",
        "class SkipGramDataset(Dataset):\n",
        "    def __init__(self, targets, contexts, labels, weights):\n",
        "        self.targets = targets\n",
        "        self.contexts = contexts\n",
        "        self.labels = labels\n",
        "        self.weights = weights\n",
        "    def __len__(self):\n",
        "        return len(self.targets)\n",
        "    def __getitem__(self, idx):\n",
        "        return {\n",
        "            \"target\": self.targets[idx],\n",
        "            \"context\": self.contexts[idx],\n",
        "            \"label\": self.labels[idx],\n",
        "            \"weight\": self.weights[idx]}\n",
        "\n",
        "def create_dataset(targets, contexts, labels, weights, batch_size, num_workers=0):\n",
        "    dataset = SkipGramDataset(targets, contexts, labels, weights)\n",
        "    loader = DataLoader(dataset, batch_size=batch_size, shuffle=True, drop_last=True, num_workers=2)\n",
        "    return loader\n",
        "\n",
        "assert len(targets) == len(contexts) == len(labels) == len(weights), \"Input arrays must have the same length\"\n",
        "\n",
        "dataset = create_dataset(\n",
        "    targets=targets,\n",
        "    contexts=contexts,\n",
        "    labels=labels,\n",
        "    weights=weights,\n",
        "    batch_size=batch_size,\n",
        ")"
      ]
    },
    {
      "cell_type": "code",
      "execution_count": 70,
      "metadata": {
        "id": "KWPmnpEbrkB8"
      },
      "outputs": [],
      "source": [
        "import torch\n",
        "import torch.nn as nn\n",
        "import torch.nn.functional as F\n",
        "import torch.nn.init as init\n",
        "\n",
        "class SkipGramModel(nn.Module):\n",
        "    def __init__(self, vocabulary_size, embedding_dim, l2_reg=1e-6):\n",
        "        super(SkipGramModel, self).__init__()\n",
        "        self.embed_item = nn.Embedding(vocabulary_size, embedding_dim)\n",
        "        self.l2_reg = l2_reg\n",
        "        init.kaiming_normal_(self.embed_item.weight, mode='fan_out')\n",
        "\n",
        "    def forward(self, target, context):\n",
        "        target_embeddings = self.embed_item(target)\n",
        "        context_embeddings = self.embed_item(context)\n",
        "        logits = (target_embeddings * context_embeddings).sum(dim=1)\n",
        "        return logits\n",
        "\n",
        "    def get_regularization_loss(self):\n",
        "        reg_loss = 0.0\n",
        "        for param in self.embed_item.parameters():\n",
        "            reg_loss += torch.sum(param ** 2)\n",
        "        return self.l2_reg * reg_loss\n",
        "\n",
        "vocabulary_size = len(vocabulary)\n",
        "embedding_dim = 50\n",
        "model = SkipGramModel(vocabulary_size, embedding_dim)"
      ]
    },
    {
      "cell_type": "code",
      "execution_count": 71,
      "metadata": {
        "id": "bgeb5NyQV9bg"
      },
      "outputs": [],
      "source": [
        "optimizer = torch.optim.Adam(model.parameters(), lr=0.001, weight_decay=1e-6)\n",
        "loss_function = nn.BCEWithLogitsLoss()"
      ]
    },
    {
      "cell_type": "code",
      "execution_count": 72,
      "metadata": {
        "colab": {
          "base_uri": "https://localhost:8080/",
          "height": 1000
        },
        "id": "Ku-6JOlrV-0S",
        "outputId": "7909c23e-5f25-4256-f049-f881326a74bb"
      },
      "outputs": [
        {
          "name": "stdout",
          "output_type": "stream",
          "text": [
            "Epoch 0: Loss = 0.6885992419046446\n",
            "Epoch 1: Loss = 0.6880648941955582\n",
            "Epoch 2: Loss = 0.6874872915321854\n",
            "Epoch 3: Loss = 0.6864729877287913\n",
            "Epoch 4: Loss = 0.6847234496492146\n",
            "Epoch 5: Loss = 0.6822580306473152\n",
            "Epoch 6: Loss = 0.6799407245687724\n",
            "Epoch 7: Loss = 0.6785319034021415\n",
            "Epoch 8: Loss = 0.6774372016766175\n",
            "Epoch 9: Loss = 0.6766694340813822\n",
            "Epoch 10: Loss = 0.675923161298629\n",
            "Epoch 0: Loss = 0.6916923435832011\n",
            "Epoch 1: Loss = 0.6862644720472834\n",
            "Epoch 2: Loss = 0.685784825205058\n",
            "Epoch 3: Loss = 0.6849718028254045\n",
            "Epoch 4: Loss = 0.6835813050687424\n",
            "Epoch 5: Loss = 0.6813879382609358\n",
            "Epoch 6: Loss = 0.6789961100498257\n",
            "Epoch 7: Loss = 0.6762786362587694\n",
            "Epoch 8: Loss = 0.6734586333012796\n",
            "Epoch 9: Loss = 0.6705133420168689\n",
            "Epoch 10: Loss = 0.6676741367460287\n",
            "Epoch 0: Loss = 0.6914726105667446\n",
            "Epoch 1: Loss = 0.6861671867205055\n",
            "Epoch 2: Loss = 0.6854682111304876\n",
            "Epoch 3: Loss = 0.6847958240484803\n",
            "Epoch 4: Loss = 0.6831752772533659\n",
            "Epoch 5: Loss = 0.6806970350466475\n",
            "Epoch 6: Loss = 0.6781485531764136\n",
            "Epoch 7: Loss = 0.6751848232968382\n",
            "Epoch 8: Loss = 0.672471056497046\n",
            "Epoch 9: Loss = 0.6693600697397328\n",
            "Epoch 10: Loss = 0.6668124062670384\n",
            "Epoch 0: Loss = 0.6915584562556278\n",
            "Epoch 1: Loss = 0.6862444396834165\n",
            "Epoch 2: Loss = 0.685592169673455\n",
            "Epoch 3: Loss = 0.6848323350664166\n",
            "Epoch 4: Loss = 0.683145821664819\n",
            "Epoch 5: Loss = 0.681128698515068\n",
            "Epoch 6: Loss = 0.6782811290958816\n",
            "Epoch 7: Loss = 0.6753451194076611\n",
            "Epoch 8: Loss = 0.6723817431511188\n",
            "Epoch 9: Loss = 0.669588513356506\n",
            "Epoch 10: Loss = 0.6666183066626689\n",
            "Epoch 0: Loss = 0.6913568395847025\n",
            "Epoch 1: Loss = 0.686250782936634\n",
            "Epoch 2: Loss = 0.6857300857937345\n",
            "Epoch 3: Loss = 0.684882669204238\n",
            "Epoch 4: Loss = 0.6833243977110427\n",
            "Epoch 5: Loss = 0.6811405155301412\n",
            "Epoch 6: Loss = 0.678611815036577\n",
            "Epoch 7: Loss = 0.6757432837045114\n",
            "Epoch 8: Loss = 0.6728272077780445\n",
            "Epoch 9: Loss = 0.6699681471789498\n",
            "Epoch 10: Loss = 0.6670259174901533\n",
            "Epoch 0: Loss = 0.6914056857269978\n",
            "Epoch 1: Loss = 0.6864225464732197\n",
            "Epoch 2: Loss = 0.6857758165574447\n",
            "Epoch 3: Loss = 0.6850537196682689\n",
            "Epoch 4: Loss = 0.6834031288092686\n",
            "Epoch 5: Loss = 0.6814515339347885\n",
            "Epoch 6: Loss = 0.6788437321368826\n",
            "Epoch 7: Loss = 0.6757612373565558\n",
            "Epoch 8: Loss = 0.6726339646674853\n",
            "Epoch 9: Loss = 0.6697603400880825\n",
            "Epoch 10: Loss = 0.6670771695240101\n",
            "Epoch 0: Loss = 0.6914834724858943\n",
            "Epoch 1: Loss = 0.6861544087830201\n",
            "Epoch 2: Loss = 0.6857160636768574\n",
            "Epoch 3: Loss = 0.6847096959990002\n",
            "Epoch 4: Loss = 0.6831296876699542\n",
            "Epoch 5: Loss = 0.6811164037279372\n",
            "Epoch 6: Loss = 0.6782827452741549\n",
            "Epoch 7: Loss = 0.6755393494357349\n",
            "Epoch 8: Loss = 0.6726422154234013\n",
            "Epoch 9: Loss = 0.6698114227055811\n",
            "Epoch 10: Loss = 0.6671151165472675\n",
            "Epoch 0: Loss = 0.6916100251608212\n",
            "Epoch 1: Loss = 0.68634580713768\n",
            "Epoch 2: Loss = 0.6855887916546958\n",
            "Epoch 3: Loss = 0.6849116640520015\n",
            "Epoch 4: Loss = 0.6833821660000065\n",
            "Epoch 5: Loss = 0.681069550244711\n",
            "Epoch 6: Loss = 0.6784615727557671\n",
            "Epoch 7: Loss = 0.6757894814836849\n",
            "Epoch 8: Loss = 0.6725596025392562\n",
            "Epoch 9: Loss = 0.6698345085976166\n",
            "Epoch 10: Loss = 0.6670800388455036\n",
            "Epoch 0: Loss = 0.6916996535853192\n",
            "Epoch 1: Loss = 0.686157109136347\n",
            "Epoch 2: Loss = 0.6857274835943294\n",
            "Epoch 3: Loss = 0.6847345379050331\n",
            "Epoch 4: Loss = 0.6834772646008288\n",
            "Epoch 5: Loss = 0.681094445037332\n",
            "Epoch 6: Loss = 0.678589297899458\n",
            "Epoch 7: Loss = 0.6755597865164572\n",
            "Epoch 8: Loss = 0.6726377680199055\n",
            "Epoch 9: Loss = 0.6696710446698122\n",
            "Epoch 10: Loss = 0.6669121718851542\n",
            "Epoch 0: Loss = 0.6916462878807088\n",
            "Epoch 1: Loss = 0.6861731189821876\n",
            "Epoch 2: Loss = 0.685708084524944\n",
            "Epoch 3: Loss = 0.684581031894277\n",
            "Epoch 4: Loss = 0.6831312442387681\n",
            "Epoch 5: Loss = 0.68106186779552\n",
            "Epoch 6: Loss = 0.6783457533690513\n",
            "Epoch 7: Loss = 0.6755165476970619\n",
            "Epoch 8: Loss = 0.6724871963183994\n",
            "Epoch 9: Loss = 0.6696798668697932\n",
            "Epoch 10: Loss = 0.6668329742196564\n",
            "Epoch 0: Loss = 0.6917356689035411\n",
            "Epoch 1: Loss = 0.6864326590163091\n",
            "Epoch 2: Loss = 0.685526916587718\n",
            "Epoch 3: Loss = 0.6849254849309294\n",
            "Epoch 4: Loss = 0.6833645641782294\n",
            "Epoch 5: Loss = 0.6813730632357797\n",
            "Epoch 6: Loss = 0.678424524356314\n",
            "Epoch 7: Loss = 0.6756643926019472\n",
            "Epoch 8: Loss = 0.6725623418852368\n",
            "Epoch 9: Loss = 0.66964154650308\n",
            "Epoch 10: Loss = 0.6669022668546939\n",
            "             Run  Final Loss\n",
            "0            1.0    0.667674\n",
            "1            2.0    0.666812\n",
            "2            3.0    0.666618\n",
            "3            4.0    0.667026\n",
            "4            5.0    0.667077\n",
            "5            6.0    0.667115\n",
            "6            7.0    0.667080\n",
            "7            8.0    0.666912\n",
            "8            9.0    0.666833\n",
            "9           10.0    0.666902\n",
            "Mean         NaN    0.667005\n",
            "Std. Error   NaN    0.000089\n"
          ]
        },
        {
          "data": {
            "image/png": "[encoded data removed]",
            "text/plain": [
              "<Figure size 640x480 with 1 Axes>"
            ]
          },
          "metadata": {},
          "output_type": "display_data"
        }
      ],
      "source": [
        "num_epochs = 11\n",
        "losses = []\n",
        "\n",
        "for epoch in range(num_epochs):\n",
        "    total_loss = 0\n",
        "    for data in dataset:\n",
        "        target, context = data['target'], data['context']\n",
        "        labels = data['label'].float()\n",
        "        model.zero_grad()\n",
        "        logits = model(target, context)\n",
        "        reg_loss = model.get_regularization_loss()\n",
        "        loss = loss_function(logits, labels) + reg_loss\n",
        "        loss.backward()\n",
        "        optimizer.step()\n",
        "        total_loss += loss.item() * target.size(0)\n",
        "    avg_loss = total_loss / len(dataset.dataset)\n",
        "    print(f\"Epoch {epoch}: Loss = {avg_loss}\")\n",
        "    losses.append(avg_loss)\n",
        "\n",
        "def train_and_evaluate(model, dataset, num_epochs):\n",
        "    optimizer = torch.optim.Adam(model.parameters(), lr=0.01, weight_decay=1e-6)\n",
        "    loss_function = nn.BCEWithLogitsLoss()\n",
        "    losses = []\n",
        "    for epoch in range(num_epochs):\n",
        "        total_loss = 0\n",
        "        for data in dataset:\n",
        "            target, context = data['target'], data['context']\n",
        "            labels = data['label'].float()\n",
        "            model.zero_grad()\n",
        "            logits = model(target, context)\n",
        "            reg_loss = model.get_regularization_loss()\n",
        "            loss = loss_function(logits, labels) + reg_loss\n",
        "            loss.backward()\n",
        "            optimizer.step()\n",
        "            total_loss += loss.item() * target.size(0)\n",
        "        avg_loss = total_loss / len(dataset.dataset)\n",
        "        print(f\"Epoch {epoch}: Loss = {avg_loss}\")\n",
        "        losses.append(avg_loss)\n",
        "    return losses[-1]\n",
        "\n",
        "num_runs = 10\n",
        "final_losses = []\n",
        "\n",
        "for _ in range(num_runs):\n",
        "    model = SkipGramModel(vocabulary_size, embedding_dim)\n",
        "    final_loss = train_and_evaluate(model, dataset, num_epochs)\n",
        "    final_losses.append(final_loss)\n",
        "\n",
        "loss_mean = np.mean(final_losses)\n",
        "loss_std_error = np.std(final_losses, ddof=1) / np.sqrt(len(final_losses))\n",
        "\n",
        "results_df = pd.DataFrame({\n",
        "    \"Run\": range(1, num_runs + 1),\n",
        "    \"Final Loss\": final_losses\n",
        "})\n",
        "results_df.loc['Mean'] = [np.nan, loss_mean]\n",
        "results_df.loc['Std. Error'] = [np.nan, loss_std_error]\n",
        "\n",
        "print(results_df)\n",
        "\n",
        "plt.errorbar(range(1, num_runs + 1), final_losses, yerr=[loss_std_error]*num_runs, fmt='o')\n",
        "plt.title(\"Final Loss Across Runs\")\n",
        "plt.xlabel(\"Run\")\n",
        "plt.ylabel(\"Final Loss\")\n",
        "plt.xticks(range(1, num_runs + 1))\n",
        "plt.grid(True)\n",
        "plt.show()"
      ]
    },
    {
      "cell_type": "code",
      "execution_count": 73,
      "metadata": {
        "colab": {
          "base_uri": "https://localhost:8080/",
          "height": 472
        },
        "id": "Lu51rQU6WBDA",
        "outputId": "8e583e70-e676-4eb9-be7e-b165d2e2ea5a"
      },
      "outputs": [
        {
          "data": {
            "image/png": "[encoded data removed]",
            "text/plain": [
              "<Figure size 640x480 with 1 Axes>"
            ]
          },
          "metadata": {},
          "output_type": "display_data"
        }
      ],
      "source": [
        "plt.plot(losses)\n",
        "plt.ylabel(\"Loss\")\n",
        "plt.xlabel(\"Epoch\")\n",
        "plt.title(\"Training Loss Over Epochs\")\n",
        "plt.show()"
      ]
    },
    {
      "cell_type": "code",
      "execution_count": 74,
      "metadata": {
        "colab": {
          "base_uri": "https://localhost:8080/"
        },
        "id": "wlCjJJO4Y3tf",
        "outputId": "77d08e5a-8e2c-441f-c8f1-a069acb32145"
      },
      "outputs": [
        {
          "name": "stdout",
          "output_type": "stream",
          "text": [
            "Embeddings shape: (517, 50)\n"
          ]
        }
      ],
      "source": [
        "movie_embeddings = model.embed_item.weight.detach().numpy()\n",
        "print(\"Embeddings shape:\", movie_embeddings.shape)"
      ]
    },
    {
      "cell_type": "code",
      "execution_count": 75,
      "metadata": {
        "id": "lShMdjevY4dQ"
      },
      "outputs": [],
      "source": [
        "query_movies = [\n",
        "    \"Toy Story (1995)\",\n",
        "    \"GoldenEye (1995)\",\n",
        "    \"Four Rooms (1995)\",\n",
        "]"
      ]
    },
    {
      "cell_type": "code",
      "execution_count": 76,
      "metadata": {
        "id": "wO-utglCY4lj"
      },
      "outputs": [],
      "source": [
        "query_embeddings = []\n",
        "\n",
        "for movie_title in query_movies:\n",
        "    movie_id = get_movie_id_by_title(movie_title)\n",
        "    token_id = vocabulary_lookup[movie_id]\n",
        "    movie_embedding = movie_embeddings[token_id]\n",
        "    query_embeddings.append(movie_embedding)\n",
        "\n",
        "query_embeddings = np.array(query_embeddings)"
      ]
    },
    {
      "cell_type": "code",
      "execution_count": 77,
      "metadata": {
        "id": "F0ht4a0owAmU"
      },
      "outputs": [],
      "source": [
        "def normalize_embeddings_torch(embeddings):\n",
        "    norms = torch.norm(embeddings, p=2, dim=1, keepdim=True)\n",
        "    return embeddings / norms\n",
        "\n",
        "query_embeddings_tensor = torch.tensor(query_embeddings).float()\n",
        "movie_embeddings_tensor = torch.tensor(movie_embeddings).float()\n",
        "\n",
        "normalized_query_embeddings_torch = normalize_embeddings_torch(query_embeddings_tensor)\n",
        "normalized_movie_embeddings_torch = normalize_embeddings_torch(movie_embeddings_tensor)\n",
        "\n",
        "similarities_torch = torch.matmul(normalized_query_embeddings_torch, normalized_movie_embeddings_torch.T)\n",
        "\n",
        "k = 5\n",
        "_, indices_torch = torch.topk(similarities_torch, k=k)\n",
        "\n",
        "indices_list = indices_torch.numpy().tolist()"
      ]
    },
    {
      "cell_type": "code",
      "execution_count": 78,
      "metadata": {
        "colab": {
          "base_uri": "https://localhost:8080/"
        },
        "id": "U7WriOAkwrrV",
        "outputId": "41f456e2-954a-4663-9b96-4f7174318b60"
      },
      "outputs": [
        {
          "name": "stdout",
          "output_type": "stream",
          "text": [
            "Toy Story (1995)\n",
            "----------------\n",
            "- Toy Story (1995)\n",
            "- Titanic (1997)\n",
            "- Mary Poppins (1964)\n",
            "- Lion King, The (1994)\n",
            "\n",
            "GoldenEye (1995)\n",
            "----------------\n",
            "- GoldenEye (1995)\n",
            "- Jean de Florette (1986)\n",
            "- Bed of Roses (1996)\n",
            "- Paris, Texas (1984)\n",
            "\n",
            "Four Rooms (1995)\n",
            "-----------------\n",
            "- Four Rooms (1995)\n",
            "- Crow, The (1994)\n",
            "- Jackie Chan's First Strike (1996)\n",
            "- Star Trek: Generations (1994)\n",
            "\n"
          ]
        }
      ],
      "source": [
        "top_k = 5\n",
        "\n",
        "for idx, title in enumerate(query_movies):\n",
        "    print(title)\n",
        "    print(\"\".rjust(len(title), \"-\"))\n",
        "    similar_tokens = indices_list[idx]\n",
        "    for token in similar_tokens:\n",
        "        if token == 0:\n",
        "          continue\n",
        "        similar_movieId = vocabulary[token]\n",
        "        similar_title = get_movie_title_by_id(similar_movieId)\n",
        "        print(f\"- {similar_title}\")\n",
        "    print()\n"
      ]
    }
  ],
  "metadata": {
    "accelerator": "GPU",
    "colab": {
      "machine_shape": "hm",
      "provenance": []
    },
    "kernelspec": {
      "display_name": "Python 3",
      "name": "python3"
    },
    "language_info": {
      "name": "python"
    }
  },
  "nbformat": 4,
  "nbformat_minor": 0
}
